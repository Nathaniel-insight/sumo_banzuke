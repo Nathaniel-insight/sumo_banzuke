{
 "cells": [
  {
   "cell_type": "markdown",
   "metadata": {},
   "source": [
    "# Grab data with scrapeing modules and save locally for cleaning and processin"
   ]
  },
  {
   "cell_type": "code",
   "execution_count": 90,
   "metadata": {},
   "outputs": [],
   "source": [
    "import pandas as pd\n",
    "import itertools"
   ]
  },
  {
   "cell_type": "code",
   "execution_count": 3,
   "metadata": {},
   "outputs": [],
   "source": [
    "%load_ext autoreload"
   ]
  },
  {
   "cell_type": "code",
   "execution_count": 4,
   "metadata": {},
   "outputs": [],
   "source": [
    "%autoreload 2"
   ]
  },
  {
   "cell_type": "code",
   "execution_count": 43,
   "metadata": {},
   "outputs": [],
   "source": [
    "import get_sumo_data as gd\n",
    "import process_banzuke as pb"
   ]
  },
  {
   "cell_type": "code",
   "execution_count": 40,
   "metadata": {},
   "outputs": [
    {
     "name": "stdout",
     "output_type": "stream",
     "text": [
      "http://sumodb.sumogames.de/Banzuke.aspx?b=202011&heya=-1&shusshin=-1&snr=on&hl=on&c=on&simple=on\n"
     ]
    }
   ],
   "source": [
    "sp = gd.get_results(2020, 11)"
   ]
  },
  {
   "cell_type": "code",
   "execution_count": 42,
   "metadata": {},
   "outputs": [
    {
     "data": {
      "text/html": [
       "<div>\n",
       "<style scoped>\n",
       "    .dataframe tbody tr th:only-of-type {\n",
       "        vertical-align: middle;\n",
       "    }\n",
       "\n",
       "    .dataframe tbody tr th {\n",
       "        vertical-align: top;\n",
       "    }\n",
       "\n",
       "    .dataframe thead th {\n",
       "        text-align: right;\n",
       "    }\n",
       "</style>\n",
       "<table border=\"1\" class=\"dataframe\">\n",
       "  <thead>\n",
       "    <tr style=\"text-align: right;\">\n",
       "      <th></th>\n",
       "      <th>Rank</th>\n",
       "      <th>Rikishi</th>\n",
       "      <th>W</th>\n",
       "      <th>L</th>\n",
       "      <th>Next</th>\n",
       "      <th>year</th>\n",
       "      <th>month</th>\n",
       "    </tr>\n",
       "  </thead>\n",
       "  <tbody>\n",
       "    <tr>\n",
       "      <th>0</th>\n",
       "      <td>Y1e</td>\n",
       "      <td>Hakuho</td>\n",
       "      <td>0</td>\n",
       "      <td>0</td>\n",
       "      <td>Y1e</td>\n",
       "      <td>2020</td>\n",
       "      <td>11</td>\n",
       "    </tr>\n",
       "    <tr>\n",
       "      <th>1</th>\n",
       "      <td>Y1w</td>\n",
       "      <td>Kakuryu</td>\n",
       "      <td>0</td>\n",
       "      <td>0</td>\n",
       "      <td>Y1w</td>\n",
       "      <td>2020</td>\n",
       "      <td>11</td>\n",
       "    </tr>\n",
       "    <tr>\n",
       "      <th>2</th>\n",
       "      <td>O1e</td>\n",
       "      <td>Takakeisho</td>\n",
       "      <td>13</td>\n",
       "      <td>2</td>\n",
       "      <td>O1e</td>\n",
       "      <td>2020</td>\n",
       "      <td>11</td>\n",
       "    </tr>\n",
       "    <tr>\n",
       "      <th>3</th>\n",
       "      <td>O1w</td>\n",
       "      <td>Asanoyama</td>\n",
       "      <td>1</td>\n",
       "      <td>2</td>\n",
       "      <td>O2e</td>\n",
       "      <td>2020</td>\n",
       "      <td>11</td>\n",
       "    </tr>\n",
       "    <tr>\n",
       "      <th>4</th>\n",
       "      <td>O2e</td>\n",
       "      <td>Shodai</td>\n",
       "      <td>3</td>\n",
       "      <td>2</td>\n",
       "      <td>O1w</td>\n",
       "      <td>2020</td>\n",
       "      <td>11</td>\n",
       "    </tr>\n",
       "  </tbody>\n",
       "</table>\n",
       "</div>"
      ],
      "text/plain": [
       "  Rank     Rikishi   W  L Next  year  month\n",
       "0  Y1e      Hakuho   0  0  Y1e  2020     11\n",
       "1  Y1w     Kakuryu   0  0  Y1w  2020     11\n",
       "2  O1e  Takakeisho  13  2  O1e  2020     11\n",
       "3  O1w   Asanoyama   1  2  O2e  2020     11\n",
       "4  O2e      Shodai   3  2  O1w  2020     11"
      ]
     },
     "execution_count": 42,
     "metadata": {},
     "output_type": "execute_result"
    }
   ],
   "source": [
    "sp.head()"
   ]
  },
  {
   "cell_type": "code",
   "execution_count": 82,
   "metadata": {},
   "outputs": [
    {
     "name": "stdout",
     "output_type": "stream",
     "text": [
      "http://sumodb.sumogames.de/Banzuke.aspx?b=202001&heya=-1&shusshin=-1&snr=on&hl=on&c=on&simple=on\n",
      "http://sumodb.sumogames.de/Banzuke.aspx?b=202003&heya=-1&shusshin=-1&snr=on&hl=on&c=on&simple=on\n",
      "http://sumodb.sumogames.de/Banzuke.aspx?b=202005&heya=-1&shusshin=-1&snr=on&hl=on&c=on&simple=on\n",
      "http://sumodb.sumogames.de/Banzuke.aspx?b=202007&heya=-1&shusshin=-1&snr=on&hl=on&c=on&simple=on\n",
      "http://sumodb.sumogames.de/Banzuke.aspx?b=202009&heya=-1&shusshin=-1&snr=on&hl=on&c=on&simple=on\n",
      "http://sumodb.sumogames.de/Banzuke.aspx?b=202011&heya=-1&shusshin=-1&snr=on&hl=on&c=on&simple=on\n",
      "<class 'pandas.core.frame.DataFrame'>\n",
      "Int64Index: 3366 entries, 0 to 669\n",
      "Data columns (total 7 columns):\n",
      " #   Column   Non-Null Count  Dtype \n",
      "---  ------   --------------  ----- \n",
      " 0   Rank     3366 non-null   object\n",
      " 1   Rikishi  3366 non-null   object\n",
      " 2   W        3366 non-null   int64 \n",
      " 3   L        3366 non-null   int64 \n",
      " 4   Next     3303 non-null   object\n",
      " 5   year     3366 non-null   int64 \n",
      " 6   month    3366 non-null   object\n",
      "dtypes: int64(3), object(4)\n",
      "memory usage: 210.4+ KB\n"
     ]
    }
   ],
   "source": [
    "sy = gd.get_year(2020)\n",
    "sy.info()"
   ]
  },
  {
   "cell_type": "code",
   "execution_count": 81,
   "metadata": {},
   "outputs": [
    {
     "data": {
      "text/plain": [
       "5"
      ]
     },
     "execution_count": 81,
     "metadata": {},
     "output_type": "execute_result"
    }
   ],
   "source": [
    "len(sy)"
   ]
  },
  {
   "cell_type": "code",
   "execution_count": 85,
   "metadata": {},
   "outputs": [
    {
     "data": {
      "text/html": [
       "<div>\n",
       "<style scoped>\n",
       "    .dataframe tbody tr th:only-of-type {\n",
       "        vertical-align: middle;\n",
       "    }\n",
       "\n",
       "    .dataframe tbody tr th {\n",
       "        vertical-align: top;\n",
       "    }\n",
       "\n",
       "    .dataframe thead th {\n",
       "        text-align: right;\n",
       "    }\n",
       "</style>\n",
       "<table border=\"1\" class=\"dataframe\">\n",
       "  <thead>\n",
       "    <tr style=\"text-align: right;\">\n",
       "      <th></th>\n",
       "      <th>Rank</th>\n",
       "      <th>Rikishi</th>\n",
       "      <th>W</th>\n",
       "      <th>L</th>\n",
       "      <th>Next</th>\n",
       "      <th>year</th>\n",
       "      <th>month</th>\n",
       "    </tr>\n",
       "  </thead>\n",
       "  <tbody>\n",
       "    <tr>\n",
       "      <th>0</th>\n",
       "      <td>Y1e</td>\n",
       "      <td>Hakuho</td>\n",
       "      <td>1</td>\n",
       "      <td>3</td>\n",
       "      <td>Y1e</td>\n",
       "      <td>2020</td>\n",
       "      <td>01</td>\n",
       "    </tr>\n",
       "    <tr>\n",
       "      <th>1</th>\n",
       "      <td>Y1w</td>\n",
       "      <td>Kakuryu</td>\n",
       "      <td>1</td>\n",
       "      <td>4</td>\n",
       "      <td>Y1wYO</td>\n",
       "      <td>2020</td>\n",
       "      <td>01</td>\n",
       "    </tr>\n",
       "    <tr>\n",
       "      <th>2</th>\n",
       "      <td>O1e</td>\n",
       "      <td>Takakeisho</td>\n",
       "      <td>11</td>\n",
       "      <td>4</td>\n",
       "      <td>O1e</td>\n",
       "      <td>2020</td>\n",
       "      <td>01</td>\n",
       "    </tr>\n",
       "    <tr>\n",
       "      <th>3</th>\n",
       "      <td>O1w</td>\n",
       "      <td>Goeido</td>\n",
       "      <td>5</td>\n",
       "      <td>10</td>\n",
       "      <td>NaN</td>\n",
       "      <td>2020</td>\n",
       "      <td>01</td>\n",
       "    </tr>\n",
       "    <tr>\n",
       "      <th>4</th>\n",
       "      <td>S1e</td>\n",
       "      <td>Asanoyama</td>\n",
       "      <td>10</td>\n",
       "      <td>5</td>\n",
       "      <td>S1e</td>\n",
       "      <td>2020</td>\n",
       "      <td>01</td>\n",
       "    </tr>\n",
       "  </tbody>\n",
       "</table>\n",
       "</div>"
      ],
      "text/plain": [
       "  Rank     Rikishi   W   L   Next  year month\n",
       "0  Y1e      Hakuho   1   3    Y1e  2020    01\n",
       "1  Y1w     Kakuryu   1   4  Y1wYO  2020    01\n",
       "2  O1e  Takakeisho  11   4    O1e  2020    01\n",
       "3  O1w      Goeido   5  10    NaN  2020    01\n",
       "4  S1e   Asanoyama  10   5    S1e  2020    01"
      ]
     },
     "execution_count": 85,
     "metadata": {},
     "output_type": "execute_result"
    }
   ],
   "source": [
    "sy.head()"
   ]
  },
  {
   "cell_type": "code",
   "execution_count": 87,
   "metadata": {},
   "outputs": [
    {
     "data": {
      "text/plain": [
       "665    6\n",
       "666    6\n",
       "667    6\n",
       "668    6\n",
       "669    6\n",
       "Name: Rank, dtype: int64"
      ]
     },
     "execution_count": 87,
     "metadata": {},
     "output_type": "execute_result"
    }
   ],
   "source": [
    "pb.tier_rank(sy.Rank).tail()"
   ]
  },
  {
   "cell_type": "code",
   "execution_count": 92,
   "metadata": {},
   "outputs": [
    {
     "ename": "SyntaxError",
     "evalue": "invalid syntax (<ipython-input-92-a31e0baae3dc>, line 6)",
     "output_type": "error",
     "traceback": [
      "\u001b[1;36m  File \u001b[1;32m\"<ipython-input-92-a31e0baae3dc>\"\u001b[1;36m, line \u001b[1;32m6\u001b[0m\n\u001b[1;33m    tier = \"\".join(itertools.takewhile(!str.isdigit, rank_raw))\u001b[0m\n\u001b[1;37m                                       ^\u001b[0m\n\u001b[1;31mSyntaxError\u001b[0m\u001b[1;31m:\u001b[0m invalid syntax\n"
     ]
    }
   ],
   "source": [
    "def get_tier(rank_raw):\n",
    "    \"\"\"\n",
    "    get tier rank by taking the first characters of the rank columns\n",
    "    \"\"\"\n",
    "    \n",
    "    tier = \"\".join(itertools.takewhile(str.isalpha, rank_raw))\n",
    "    \n",
    "    return tier\n",
    "\n",
    "get_tier('Y1e')\n",
    "    "
   ]
  },
  {
   "cell_type": "code",
   "execution_count": 88,
   "metadata": {},
   "outputs": [
    {
     "data": {
      "text/plain": [
       "array(['Y1e', 'Y1w', 'O1e', 'O1w', 'S1e', 'S1w', 'K1e', 'K1w', 'M1e',\n",
       "       'M1w', 'M2e', 'M2w', 'M3e', 'M3w', 'M4e', 'M4w', 'M5e', 'M5w',\n",
       "       'M6e', 'M6w', 'M7e', 'M7w', 'M8e', 'M8w', 'M9e', 'M9w', 'M10e',\n",
       "       'M10w', 'M11e', 'M11w', 'M12e', 'M12w', 'M13e', 'M13w', 'M14e',\n",
       "       'M14w', 'M15e', 'M15w', 'M16e', 'M16w', 'M17e', 'M17w', 'J1e',\n",
       "       'J1w', 'J2e', 'J2w', 'J3e', 'J3w', 'J4e', 'J4w', 'J5e', 'J5w',\n",
       "       'J6e', 'J6w', 'J7e', 'J7w', 'J8e', 'J8w', 'J9e', 'J9w', 'J10e',\n",
       "       'J10w', 'J11e', 'J11w', 'J12e', 'J12w', 'J13e', 'J13w', 'J14e',\n",
       "       'J14w', 'Ms1e', 'Ms1w', 'Ms2e', 'Ms2w', 'Ms3e', 'Ms3w', 'Ms4e',\n",
       "       'Ms4w', 'Ms5e', 'Ms5w', 'Ms6e', 'Ms6w', 'Ms7e', 'Ms7w', 'Ms8e',\n",
       "       'Ms8w', 'Ms9e', 'Ms9w', 'Ms10e', 'Ms10w', 'Ms11e', 'Ms11w',\n",
       "       'Ms12e', 'Ms12w', 'Ms13e', 'Ms13w', 'Ms14e', 'Ms14w', 'Ms15e',\n",
       "       'Ms15w', 'Ms16e', 'Ms16w', 'Ms17e', 'Ms17w', 'Ms18e', 'Ms18w',\n",
       "       'Ms19e', 'Ms19w', 'Ms20e', 'Ms20w', 'Ms21e', 'Ms21w', 'Ms22e',\n",
       "       'Ms22w', 'Ms23e', 'Ms23w', 'Ms24e', 'Ms24w', 'Ms25e', 'Ms25w',\n",
       "       'Ms26e', 'Ms26w', 'Ms27e', 'Ms27w', 'Ms28e', 'Ms28w', 'Ms29e',\n",
       "       'Ms29w', 'Ms30e', 'Ms30w', 'Ms31e', 'Ms31w', 'Ms32e', 'Ms32w',\n",
       "       'Ms33e', 'Ms33w', 'Ms34e', 'Ms34w', 'Ms35e', 'Ms35w', 'Ms36e',\n",
       "       'Ms36w', 'Ms37e', 'Ms37w', 'Ms38e', 'Ms38w', 'Ms39e', 'Ms39w',\n",
       "       'Ms40e', 'Ms40w', 'Ms41e', 'Ms41w', 'Ms42e', 'Ms42w', 'Ms43e',\n",
       "       'Ms43w', 'Ms44e', 'Ms44w', 'Ms45e', 'Ms45w', 'Ms46e', 'Ms46w',\n",
       "       'Ms47e', 'Ms47w', 'Ms48e', 'Ms48w', 'Ms49e', 'Ms49w', 'Ms50e',\n",
       "       'Ms50w', 'Ms51e', 'Ms51w', 'Ms52e', 'Ms52w', 'Ms53e', 'Ms53w',\n",
       "       'Ms54e', 'Ms54w', 'Ms55e', 'Ms55w', 'Ms56e', 'Ms56w', 'Ms57e',\n",
       "       'Ms57w', 'Ms58e', 'Ms58w', 'Ms59e', 'Ms59w', 'Ms60e', 'Ms60w',\n",
       "       'Sd1e', 'Sd1w', 'Sd2e', 'Sd2w', 'Sd3e', 'Sd3w', 'Sd4e', 'Sd4w',\n",
       "       'Sd5e', 'Sd5w', 'Sd6e', 'Sd6w', 'Sd7e', 'Sd7w', 'Sd8e', 'Sd8w',\n",
       "       'Sd9e', 'Sd9w', 'Sd10e', 'Sd10w', 'Sd11e', 'Sd11w', 'Sd12e',\n",
       "       'Sd12w', 'Sd13e', 'Sd13w', 'Sd14e', 'Sd14w', 'Sd15e', 'Sd15w',\n",
       "       'Sd16e', 'Sd16w', 'Sd17e', 'Sd17w', 'Sd18e', 'Sd18w', 'Sd19e',\n",
       "       'Sd19w', 'Sd20e', 'Sd20w', 'Sd21e', 'Sd21w', 'Sd22e', 'Sd22w',\n",
       "       'Sd23e', 'Sd23w', 'Sd24e', 'Sd24w', 'Sd25e', 'Sd25w', 'Sd26e',\n",
       "       'Sd26w', 'Sd27e', 'Sd27w', 'Sd28e', 'Sd28w', 'Sd29e', 'Sd29w',\n",
       "       'Sd30e', 'Sd30w', 'Sd31e', 'Sd31w', 'Sd32e', 'Sd32w', 'Sd33e',\n",
       "       'Sd33w', 'Sd34e', 'Sd34w', 'Sd35e', 'Sd35w', 'Sd36e', 'Sd36w',\n",
       "       'Sd37e', 'Sd37w', 'Sd38e', 'Sd38w', 'Sd39e', 'Sd39w', 'Sd40e',\n",
       "       'Sd40w', 'Sd41e', 'Sd41w', 'Sd42e', 'Sd42w', 'Sd43e', 'Sd43w',\n",
       "       'Sd44e', 'Sd44w', 'Sd45e', 'Sd45w', 'Sd46e', 'Sd46w', 'Sd47e',\n",
       "       'Sd47w', 'Sd48e', 'Sd48w', 'Sd49e', 'Sd49w', 'Sd50e', 'Sd50w',\n",
       "       'Sd51e', 'Sd51w', 'Sd52e', 'Sd52w', 'Sd53e', 'Sd53w', 'Sd54e',\n",
       "       'Sd54w', 'Sd55e', 'Sd55w', 'Sd56e', 'Sd56w', 'Sd57e', 'Sd57w',\n",
       "       'Sd58e', 'Sd58w', 'Sd59e', 'Sd59w', 'Sd60e', 'Sd60w', 'Sd61e',\n",
       "       'Sd61w', 'Sd62e', 'Sd62w', 'Sd63e', 'Sd63w', 'Sd64e', 'Sd64w',\n",
       "       'Sd65e', 'Sd65w', 'Sd66e', 'Sd66w', 'Sd67e', 'Sd67w', 'Sd68e',\n",
       "       'Sd68w', 'Sd69e', 'Sd69w', 'Sd70e', 'Sd70w', 'Sd71e', 'Sd71w',\n",
       "       'Sd72e', 'Sd72w', 'Sd73e', 'Sd73w', 'Sd74e', 'Sd74w', 'Sd75e',\n",
       "       'Sd75w', 'Sd76e', 'Sd76w', 'Sd77e', 'Sd77w', 'Sd78e', 'Sd78w',\n",
       "       'Sd79e', 'Sd79w', 'Sd80e', 'Sd80w', 'Sd81e', 'Sd81w', 'Sd82e',\n",
       "       'Sd82w', 'Sd83e', 'Sd83w', 'Sd84e', 'Sd84w', 'Sd85e', 'Sd85w',\n",
       "       'Sd86e', 'Sd86w', 'Sd87e', 'Sd87w', 'Sd88e', 'Sd88w', 'Sd89e',\n",
       "       'Sd89w', 'Sd90e', 'Sd90w', 'Sd91e', 'Sd91w', 'Sd92e', 'Sd92w',\n",
       "       'Sd93e', 'Sd93w', 'Sd94e', 'Sd94w', 'Sd95e', 'Sd95w', 'Sd96e',\n",
       "       'Sd96w', 'Sd97e', 'Sd97w', 'Sd98e', 'Sd98w', 'Sd99e', 'Sd99w',\n",
       "       'Sd100e', 'Sd100w', 'Jd1e', 'Jd1w', 'Jd2e', 'Jd2w', 'Jd3e', 'Jd3w',\n",
       "       'Jd4e', 'Jd4w', 'Jd5e', 'Jd5w', 'Jd6e', 'Jd6w', 'Jd7e', 'Jd7w',\n",
       "       'Jd8e', 'Jd8w', 'Jd9e', 'Jd9w', 'Jd10e', 'Jd10w', 'Jd11e', 'Jd11w',\n",
       "       'Jd12e', 'Jd12w', 'Jd13e', 'Jd13w', 'Jd14e', 'Jd14w', 'Jd15e',\n",
       "       'Jd15w', 'Jd16e', 'Jd16w', 'Jd17e', 'Jd17w', 'Jd18e', 'Jd18w',\n",
       "       'Jd19e', 'Jd19w', 'Jd20e', 'Jd20w', 'Jd21e', 'Jd21w', 'Jd22e',\n",
       "       'Jd22w', 'Jd23e', 'Jd23w', 'Jd24e', 'Jd24w', 'Jd25e', 'Jd25w',\n",
       "       'Jd26e', 'Jd26w', 'Jd27e', 'Jd27w', 'Jd28e', 'Jd28w', 'Jd29e',\n",
       "       'Jd29w', 'Jd30e', 'Jd30w', 'Jd31e', 'Jd31w', 'Jd32e', 'Jd32w',\n",
       "       'Jd33e', 'Jd33w', 'Jd34e', 'Jd34w', 'Jd35e', 'Jd35w', 'Jd36e',\n",
       "       'Jd36w', 'Jd37e', 'Jd37w', 'Jd38e', 'Jd38w', 'Jd39e', 'Jd39w',\n",
       "       'Jd40e', 'Jd40w', 'Jd41e', 'Jd41w', 'Jd42e', 'Jd42w', 'Jd43e',\n",
       "       'Jd43w', 'Jd44e', 'Jd44w', 'Jd45e', 'Jd45w', 'Jd46e', 'Jd46w',\n",
       "       'Jd47e', 'Jd47w', 'Jd48e', 'Jd48w', 'Jd49e', 'Jd49w', 'Jd50e',\n",
       "       'Jd50w', 'Jd51e', 'Jd51w', 'Jd52e', 'Jd52w', 'Jd53e', 'Jd53w',\n",
       "       'Jd54e', 'Jd54w', 'Jd55e', 'Jd55w', 'Jd56e', 'Jd56w', 'Jd57e',\n",
       "       'Jd57w', 'Jd58e', 'Jd58w', 'Jd59e', 'Jd59w', 'Jd60e', 'Jd60w',\n",
       "       'Jd61e', 'Jd61w', 'Jd62e', 'Jd62w', 'Jd63e', 'Jd63w', 'Jd64e',\n",
       "       'Jd64w', 'Jd65e', 'Jd65w', 'Jd66e', 'Jd66w', 'Jd67e', 'Jd67w',\n",
       "       'Jd68e', 'Jd68w', 'Jd69e', 'Jd69w', 'Jd70e', 'Jd70w', 'Jd71e',\n",
       "       'Jd71w', 'Jd72e', 'Jd72w', 'Jd73e', 'Jd73w', 'Jd74e', 'Jd74w',\n",
       "       'Jd75e', 'Jd75w', 'Jd76e', 'Jd76w', 'Jd77e', 'Jd77w', 'Jd78e',\n",
       "       'Jd78w', 'Jd79e', 'Jd79w', 'Jd80e', 'Jd80w', 'Jd81e', 'Jd81w',\n",
       "       'Jd82e', 'Jd82w', 'Jd83e', 'Jd83w', 'Jd84e', 'Jd84w', 'Jd85e',\n",
       "       'Jd85w', 'Jd86e', 'Jd86w', 'Jd87e', 'Jd87w', 'Jd88e', 'Jd88w',\n",
       "       'Jd89e', 'Jd89w', 'Jd90e', 'Jd90w', 'Jd91e', 'Jd91w', 'Jd92e',\n",
       "       'Jd92w', 'Jd93e', 'Jd93w', 'Jd94e', 'Jd94w', 'Jd95e', 'Jd95w',\n",
       "       'Jd96e', 'Jd96w', 'Jd97e', 'Jd97w', 'Jd98e', 'Jd98w', 'Jd99e',\n",
       "       'Jd99w', 'Jd100e', 'Jd100w', 'Jd101e', 'Jd101w', 'Jd102e',\n",
       "       'Jd102w', 'Jd103e', 'Jd103w', 'Jd104e', 'Jd104w', 'Jd105e',\n",
       "       'Jd105w', 'Jd106e', 'Jd106w', 'Jd107e', 'Jd107w', 'Jd108e',\n",
       "       'Jd108w', 'Jk1e', 'Jk1w', 'Jk2e', 'Jk2w', 'Jk3e', 'Jk3w', 'Jk4e',\n",
       "       'Jk4w', 'Jk5e', 'Jk5w', 'Jk6e', 'Jk6w', 'Jk7e', 'Jk7w', 'Jk8e',\n",
       "       'Jk8w', 'Jk9e', 'Jk9w', 'Jk10e', 'Jk10w', 'Jk11e', 'Jk11w',\n",
       "       'Jk12e', 'Jk12w', 'Jk13e', 'Jk13w', 'Jk14e', 'Jk14w', 'Jk15e',\n",
       "       'Jk15w', 'Jk16e', 'Jk16w', 'Jk17e', 'Jk17w', 'Jk18e', 'Jk18w',\n",
       "       'Jk19e', 'Jk19w', 'Jk20e', 'Jk20w', 'Jk21e', 'Jk21w', 'Jk22e',\n",
       "       'Jk22w', 'Jk23e', 'Jk23w', 'Jk24e', 'Jk24w', 'Jk25e', 'Jk25w',\n",
       "       'Jk26e', 'Jk26w', 'Jk27e', 'Jk27w', 'Jk28e', 'Y1wYO', 'M18e',\n",
       "       'Sd100TD', 'Jd109e', 'Jd109w', 'Jd110e', 'Jd110w', 'Jd111e',\n",
       "       'Jd111w', 'Jd112e', 'Jd112w', 'Jd113e', 'Jd113w', 'Jd114e',\n",
       "       'Jd114w', 'Jd115e', 'Jd115w', 'Jd116e', 'Jd116w', 'Jk28w', 'Jk29e',\n",
       "       'Jk29w', 'Jk30e', 'Jk30w', 'Jk31e', 'Jk31w', 'Jk32e', 'Jk32w',\n",
       "       'Jk33e', 'Jk33w', 'Jk34e', 'Jk34w', 'Jk35e', 'Jk35w', 'Jk36e',\n",
       "       'Jk36w', 'Jk37e', 'S2e', 'O2e'], dtype=object)"
      ]
     },
     "execution_count": 88,
     "metadata": {},
     "output_type": "execute_result"
    }
   ],
   "source": [
    "sy.Rank"
   ]
  },
  {
   "cell_type": "code",
   "execution_count": null,
   "metadata": {},
   "outputs": [],
   "source": []
  }
 ],
 "metadata": {
  "kernelspec": {
   "display_name": "Python 3",
   "language": "python",
   "name": "python3"
  },
  "language_info": {
   "codemirror_mode": {
    "name": "ipython",
    "version": 3
   },
   "file_extension": ".py",
   "mimetype": "text/x-python",
   "name": "python",
   "nbconvert_exporter": "python",
   "pygments_lexer": "ipython3",
   "version": "3.8.5"
  }
 },
 "nbformat": 4,
 "nbformat_minor": 4
}
