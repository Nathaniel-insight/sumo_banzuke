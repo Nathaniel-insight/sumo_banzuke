{
 "cells": [
  {
   "cell_type": "markdown",
   "metadata": {
    "tags": [
     "papermill-error-cell-tag"
    ]
   },
   "source": [
    "<span style=\"color:red; font-family:Helvetica Neue, Helvetica, Arial, sans-serif; font-size:2em;\">An Exception was encountered at '<a href=\"#papermill-error-cell\">In [3]</a>'.</span>"
   ]
  },
  {
   "cell_type": "markdown",
   "metadata": {
    "papermill": {
     "duration": 0.0,
     "end_time": "2020-12-28T06:02:17.499849",
     "exception": false,
     "start_time": "2020-12-28T06:02:17.499849",
     "status": "completed"
    },
    "tags": []
   },
   "source": [
    "# Scrape Data from sumo db\n",
    "\n",
    "In this notebook we will use requests, beautiful soup and pandas to scrape banzuke (rankings), hoshitori (tournament results) from sumo db and store locally for further processing"
   ]
  },
  {
   "cell_type": "markdown",
   "metadata": {
    "papermill": {
     "duration": 0.022179,
     "end_time": "2020-12-28T06:02:17.522028",
     "exception": false,
     "start_time": "2020-12-28T06:02:17.499849",
     "status": "completed"
    },
    "tags": []
   },
   "source": [
    "## MVP\n",
    "\n",
    "for the mvp we only need the rankings and results from the previous two tournaments\n",
    "\n",
    "### Banzuke format\n",
    "sample URL\n",
    "http://sumodb.sumogames.de/Banzuke_text.aspx?b=202009\n",
    "\n",
    "URL template\n",
    "http://sumodb.sumogames.de/Banzuke_text.aspx?b=yyyymm"
   ]
  },
  {
   "cell_type": "code",
   "execution_count": 1,
   "metadata": {
    "execution": {
     "iopub.execute_input": "2020-12-28T06:02:17.537666Z",
     "iopub.status.busy": "2020-12-28T06:02:17.537666Z",
     "iopub.status.idle": "2020-12-28T06:02:18.186067Z",
     "shell.execute_reply": "2020-12-28T06:02:18.186067Z"
    },
    "papermill": {
     "duration": 0.664039,
     "end_time": "2020-12-28T06:02:18.186067",
     "exception": false,
     "start_time": "2020-12-28T06:02:17.522028",
     "status": "completed"
    },
    "tags": []
   },
   "outputs": [],
   "source": [
    "import pandas as pd\n",
    "import requests\n",
    "from bs4 import BeautifulSoup"
   ]
  },
  {
   "cell_type": "markdown",
   "metadata": {
    "papermill": {
     "duration": 0.015609,
     "end_time": "2020-12-28T06:02:18.201676",
     "exception": false,
     "start_time": "2020-12-28T06:02:18.186067",
     "status": "completed"
    },
    "tags": []
   },
   "source": [
    "### Banzuke mvp\n",
    "\n",
    "It's faster to request the text than it is to request the tables"
   ]
  },
  {
   "cell_type": "code",
   "execution_count": 2,
   "metadata": {
    "execution": {
     "iopub.execute_input": "2020-12-28T06:02:18.217306Z",
     "iopub.status.busy": "2020-12-28T06:02:18.217306Z",
     "iopub.status.idle": "2020-12-28T06:02:20.215509Z",
     "shell.execute_reply": "2020-12-28T06:02:20.215509Z"
    },
    "papermill": {
     "duration": 2.013833,
     "end_time": "2020-12-28T06:02:20.215509",
     "exception": false,
     "start_time": "2020-12-28T06:02:18.201676",
     "status": "completed"
    },
    "tags": []
   },
   "outputs": [],
   "source": [
    "url = 'http://sumodb.sumogames.de/Banzuke_text.aspx?b=202009'\n",
    "\n",
    "res = requests.get(url)\n",
    "soup = BeautifulSoup(res.content)\n",
    "# table = soup.find_all('table')[0] \n",
    "# df = pd.read_html(str(table))\n",
    "# df.head()"
   ]
  },
  {
   "cell_type": "markdown",
   "metadata": {
    "tags": [
     "papermill-error-cell-tag"
    ]
   },
   "source": [
    "<span id=\"papermill-error-cell\" style=\"color:red; font-family:Helvetica Neue, Helvetica, Arial, sans-serif; font-size:2em;\">Execution using papermill encountered an exception here and stopped:</span>"
   ]
  },
  {
   "cell_type": "code",
   "execution_count": 3,
   "metadata": {
    "execution": {
     "iopub.execute_input": "2020-12-28T06:02:20.237530Z",
     "iopub.status.busy": "2020-12-28T06:02:20.237530Z",
     "iopub.status.idle": "2020-12-28T06:02:20.469411Z",
     "shell.execute_reply": "2020-12-28T06:02:20.469411Z"
    },
    "papermill": {
     "duration": 0.253902,
     "end_time": "2020-12-28T06:02:20.469411",
     "exception": true,
     "start_time": "2020-12-28T06:02:20.215509",
     "status": "failed"
    },
    "tags": []
   },
   "outputs": [
    {
     "ename": "ValueError",
     "evalue": "'Makuuchi' is not in list",
     "output_type": "error",
     "traceback": [
      "\u001b[1;31m---------------------------------------------------------------------------\u001b[0m",
      "\u001b[1;31mValueError\u001b[0m                                Traceback (most recent call last)",
      "\u001b[1;32m<ipython-input-3-1a6d3371304d>\u001b[0m in \u001b[0;36m<module>\u001b[1;34m\u001b[0m\n\u001b[0;32m     22\u001b[0m     \u001b[1;32mreturn\u001b[0m \u001b[0mdf\u001b[0m\u001b[1;33m\u001b[0m\u001b[1;33m\u001b[0m\u001b[0m\n\u001b[0;32m     23\u001b[0m \u001b[1;33m\u001b[0m\u001b[0m\n\u001b[1;32m---> 24\u001b[1;33m \u001b[0mx\u001b[0m \u001b[1;33m=\u001b[0m \u001b[0mretrieve_rows\u001b[0m\u001b[1;33m(\u001b[0m\u001b[0msoup\u001b[0m\u001b[1;33m)\u001b[0m\u001b[1;33m\u001b[0m\u001b[1;33m\u001b[0m\u001b[0m\n\u001b[0m\u001b[0;32m     25\u001b[0m \u001b[0mprint\u001b[0m\u001b[1;33m(\u001b[0m\u001b[0mx\u001b[0m\u001b[1;33m)\u001b[0m\u001b[1;33m\u001b[0m\u001b[1;33m\u001b[0m\u001b[0m\n",
      "\u001b[1;32m<ipython-input-3-1a6d3371304d>\u001b[0m in \u001b[0;36mretrieve_rows\u001b[1;34m(soup, start_rank, end_rank)\u001b[0m\n\u001b[0;32m     10\u001b[0m     \u001b[0ml\u001b[0m \u001b[1;33m=\u001b[0m \u001b[0mstr\u001b[0m\u001b[1;33m(\u001b[0m\u001b[0msoup\u001b[0m\u001b[1;33m.\u001b[0m\u001b[0mfind_all\u001b[0m\u001b[1;33m(\u001b[0m\u001b[1;34m'pre'\u001b[0m\u001b[1;33m)\u001b[0m\u001b[1;33m[\u001b[0m\u001b[1;36m0\u001b[0m\u001b[1;33m]\u001b[0m\u001b[1;33m)\u001b[0m\u001b[1;33m.\u001b[0m\u001b[0msplit\u001b[0m\u001b[1;33m(\u001b[0m\u001b[1;34m'\\r\\n'\u001b[0m\u001b[1;33m)\u001b[0m\u001b[1;33m\u001b[0m\u001b[1;33m\u001b[0m\u001b[0m\n\u001b[0;32m     11\u001b[0m \u001b[1;33m\u001b[0m\u001b[0m\n\u001b[1;32m---> 12\u001b[1;33m     \u001b[0mstart_idx\u001b[0m \u001b[1;33m=\u001b[0m \u001b[0ml\u001b[0m\u001b[1;33m.\u001b[0m\u001b[0mindex\u001b[0m\u001b[1;33m(\u001b[0m\u001b[0mstart_rank\u001b[0m\u001b[1;33m)\u001b[0m \u001b[1;33m+\u001b[0m \u001b[1;36m2\u001b[0m\u001b[1;33m\u001b[0m\u001b[1;33m\u001b[0m\u001b[0m\n\u001b[0m\u001b[0;32m     13\u001b[0m     \u001b[0mend_idx\u001b[0m \u001b[1;33m=\u001b[0m \u001b[0ml\u001b[0m\u001b[1;33m.\u001b[0m\u001b[0mindex\u001b[0m\u001b[1;33m(\u001b[0m\u001b[0mend_rank\u001b[0m\u001b[1;33m)\u001b[0m \u001b[1;33m-\u001b[0m\u001b[1;36m1\u001b[0m\u001b[1;33m\u001b[0m\u001b[1;33m\u001b[0m\u001b[0m\n\u001b[0;32m     14\u001b[0m \u001b[1;33m\u001b[0m\u001b[0m\n",
      "\u001b[1;31mValueError\u001b[0m: 'Makuuchi' is not in list"
     ]
    }
   ],
   "source": [
    "def retrieve_rows(soup, start_rank = 'Makuuchi', end_rank = 'Juryo'):\n",
    "    \"\"\"\n",
    "    takes banzuke soup object and grabs rows data from makuuchi and juryo\n",
    "    returns as dataframe\n",
    "    \"\"\"\n",
    "    \n",
    "    if len(soup.find_all('pre')) == 0:\n",
    "        return 'None'\n",
    "    \n",
    "    l = str(soup.find_all('pre')[0]).split('\\r\\n')\n",
    "    \n",
    "    start_idx = l.index(start_rank) + 2\n",
    "    end_idx = l.index(end_rank) -1\n",
    "    \n",
    "    to_df = l[start_idx:end_idx]\n",
    "    to_df = [y.split() for y in to_df]\n",
    "    \n",
    "    cols = ['rank', 'name', 'pob', 'stable', 'birthdate', 'height', 'weight']\n",
    "    \n",
    "    df = pd.DataFrame(to_df, columns = cols)\n",
    "    \n",
    "    return df\n",
    "\n",
    "x = retrieve_rows(soup)\n",
    "print(x)"
   ]
  },
  {
   "cell_type": "markdown",
   "metadata": {
    "papermill": {
     "duration": null,
     "end_time": null,
     "exception": null,
     "start_time": null,
     "status": "pending"
    },
    "tags": []
   },
   "source": [
    "The above should work for both makuuchi to juryou and juryo to makushita"
   ]
  },
  {
   "cell_type": "code",
   "execution_count": null,
   "metadata": {
    "papermill": {
     "duration": null,
     "end_time": null,
     "exception": null,
     "start_time": null,
     "status": "pending"
    },
    "tags": []
   },
   "outputs": [],
   "source": [
    "retrieve_rows(soup, start_rank = 'Juryo', end_rank = 'Makushita')"
   ]
  },
  {
   "cell_type": "code",
   "execution_count": null,
   "metadata": {
    "papermill": {
     "duration": null,
     "end_time": null,
     "exception": null,
     "start_time": null,
     "status": "pending"
    },
    "tags": []
   },
   "outputs": [],
   "source": [
    "def combine_divisions(div1, div2):\n",
    "    \"\"\"\n",
    "    join data frames from two different divisions\n",
    "    \"\"\"\n",
    "    \n",
    "    jf = pd.concat([div1, div2])\n",
    "    \n",
    "    return jf\n",
    "\n",
    "div1 = retrieve_rows(soup, 'Makuuchi', 'Juryo')\n",
    "print(div1.shape)\n",
    "div2 = retrieve_rows(soup, 'Juryo', 'Makushita')\n",
    "print(div2.shape)\n",
    "jf = combine_divisions(div1, div2)\n",
    "jf.shape"
   ]
  },
  {
   "cell_type": "code",
   "execution_count": null,
   "metadata": {
    "papermill": {
     "duration": null,
     "end_time": null,
     "exception": null,
     "start_time": null,
     "status": "pending"
    },
    "tags": []
   },
   "outputs": [],
   "source": [
    "jf.head()"
   ]
  },
  {
   "cell_type": "code",
   "execution_count": null,
   "metadata": {
    "papermill": {
     "duration": null,
     "end_time": null,
     "exception": null,
     "start_time": null,
     "status": "pending"
    },
    "tags": []
   },
   "outputs": [],
   "source": [
    "[str(x).zfill(2) for x in list(range(1,13,1))]"
   ]
  },
  {
   "cell_type": "code",
   "execution_count": null,
   "metadata": {
    "papermill": {
     "duration": null,
     "end_time": null,
     "exception": null,
     "start_time": null,
     "status": "pending"
    },
    "tags": []
   },
   "outputs": [],
   "source": [
    "def scrape_banzuke(year = 2019):\n",
    "    \"\"\"\n",
    "    scrape all the banzukes for given year\n",
    "    \"\"\"\n",
    "    \n",
    "#     if year == 2020:\n",
    "#         months = [str(x).zfill(2) for x in list(range(1,13,2))]\n",
    "#         months.remove('05')\n",
    "#     else:\n",
    "#         months = [str(x).zfill(2) for x in list(range(1,13,2))]\n",
    "\n",
    "    months = [str(x).zfill(2) for x in list(range(1,13,1))]\n",
    "    \n",
    "    url = 'http://sumodb.sumogames.de/Banzuke_text.aspx?b={}{}'\n",
    "    \n",
    "    urls = [url.format(year, x) for x in months ]\n",
    "    \n",
    "    banzuke = []\n",
    "    \n",
    "    for r in urls:\n",
    "        res = requests.get(r)\n",
    "        soup = BeautifulSoup(res.content)\n",
    "        mak = retrieve_rows(soup, start_rank = 'Makuuchi', end_rank = 'Juryo')\n",
    "        if type(mak) == type(str()):\n",
    "            continue\n",
    "        jur = retrieve_rows(soup, start_rank = 'Juryo', end_rank = 'Makushita')\n",
    "        \n",
    "        print(r)\n",
    "        df = combine_divisions(mak, jur)\n",
    "        df['year'] = year\n",
    "        df['month'] = r[-2::1]\n",
    "        banzuke.append(df)\n",
    "    \n",
    "    banzuke = pd.concat(banzuke, ignore_index=True)\n",
    "    \n",
    "    return banzuke\n",
    "\n",
    "scrape_banzuke(year = 2020)"
   ]
  },
  {
   "cell_type": "code",
   "execution_count": null,
   "metadata": {
    "papermill": {
     "duration": null,
     "end_time": null,
     "exception": null,
     "start_time": null,
     "status": "pending"
    },
    "tags": []
   },
   "outputs": [],
   "source": [
    "year = 2020\n",
    "banzuke = scrape_banzuke(year = year)\n",
    "banzuke.to_csv('banzuke_{}.csv'.format(year), index = False)"
   ]
  },
  {
   "cell_type": "code",
   "execution_count": null,
   "metadata": {
    "papermill": {
     "duration": null,
     "end_time": null,
     "exception": null,
     "start_time": null,
     "status": "pending"
    },
    "tags": []
   },
   "outputs": [],
   "source": []
  }
 ],
 "metadata": {
  "kernelspec": {
   "display_name": "Python 3",
   "language": "python",
   "name": "python3"
  },
  "language_info": {
   "codemirror_mode": {
    "name": "ipython",
    "version": 3
   },
   "file_extension": ".py",
   "mimetype": "text/x-python",
   "name": "python",
   "nbconvert_exporter": "python",
   "pygments_lexer": "ipython3",
   "version": "3.8.5"
  },
  "papermill": {
   "default_parameters": {},
   "duration": 4.688654,
   "end_time": "2020-12-28T06:02:20.886101",
   "environment_variables": {},
   "exception": true,
   "input_path": "C:\\Users/Nathaniel Gillgren/Desktop/sumo_banzuke/get_banzuke.ipynb",
   "output_path": "C:\\Users/Nathaniel Gillgren/Desktop/sumo_banzuke/get_banzuke.ipynb",
   "parameters": {},
   "start_time": "2020-12-28T06:02:16.197447",
   "version": "2.2.2"
  }
 },
 "nbformat": 4,
 "nbformat_minor": 4
}