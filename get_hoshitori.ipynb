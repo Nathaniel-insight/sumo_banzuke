{
 "cells": [
  {
   "cell_type": "markdown",
   "metadata": {
    "papermill": {
     "duration": 0.0,
     "end_time": "2020-12-28T05:54:00.576488",
     "exception": false,
     "start_time": "2020-12-28T05:54:00.576488",
     "status": "completed"
    },
    "tags": []
   },
   "source": [
    "# Scrape Data from sumo db\n",
    "\n",
    "In this notebook we will use requests, beautiful soup and pandas to scrape banzuke (rankings), hoshitori (tournament results) from sumo db and store locally for further processing"
   ]
  },
  {
   "cell_type": "markdown",
   "metadata": {
    "papermill": {
     "duration": 0.015477,
     "end_time": "2020-12-28T05:54:00.591965",
     "exception": false,
     "start_time": "2020-12-28T05:54:00.576488",
     "status": "completed"
    },
    "tags": []
   },
   "source": [
    "## MVP\n",
    "\n",
    "for the mvp we only need the rankings and results from the previous two tournaments\n",
    "\n",
    "### Banzuke format (note that Banzuke_text does not have tournament results - must get from aspx)\n",
    "sample URL\n",
    "http://sumodb.sumogames.de/Banzuke.aspx?b=202009\n",
    "\n",
    "URL template\n",
    "http://sumodb.sumogames.de/Banzuke.aspx?b=yyyymm"
   ]
  },
  {
   "cell_type": "code",
   "execution_count": 1,
   "metadata": {
    "execution": {
     "iopub.execute_input": "2020-12-28T05:54:00.614088Z",
     "iopub.status.busy": "2020-12-28T05:54:00.607582Z",
     "iopub.status.idle": "2020-12-28T05:54:01.231455Z",
     "shell.execute_reply": "2020-12-28T05:54:01.231455Z"
    },
    "papermill": {
     "duration": 0.63949,
     "end_time": "2020-12-28T05:54:01.231455",
     "exception": false,
     "start_time": "2020-12-28T05:54:00.591965",
     "status": "completed"
    },
    "tags": []
   },
   "outputs": [],
   "source": [
    "import pandas as pd\n",
    "import requests\n",
    "from bs4 import BeautifulSoup"
   ]
  },
  {
   "cell_type": "code",
   "execution_count": 2,
   "metadata": {
    "execution": {
     "iopub.execute_input": "2020-12-28T05:54:01.247031Z",
     "iopub.status.busy": "2020-12-28T05:54:01.247031Z",
     "iopub.status.idle": "2020-12-28T05:54:07.836529Z",
     "shell.execute_reply": "2020-12-28T05:54:07.836529Z"
    },
    "papermill": {
     "duration": 6.605074,
     "end_time": "2020-12-28T05:54:07.836529",
     "exception": false,
     "start_time": "2020-12-28T05:54:01.231455",
     "status": "completed"
    },
    "tags": []
   },
   "outputs": [],
   "source": [
    "url = 'http://sumodb.sumogames.de/Banzuke.aspx?b=202009'\n",
    "\n",
    "res = requests.get(url)\n",
    "soup = BeautifulSoup(res.content)\n",
    "# table = soup.find_all('table')[0] \n",
    "# df = pd.read_html(str(table))\n",
    "# df.head()"
   ]
  },
  {
   "cell_type": "code",
   "execution_count": 3,
   "metadata": {
    "execution": {
     "iopub.execute_input": "2020-12-28T05:54:07.909055Z",
     "iopub.status.busy": "2020-12-28T05:54:07.909055Z",
     "iopub.status.idle": "2020-12-28T05:54:08.564240Z",
     "shell.execute_reply": "2020-12-28T05:54:08.564240Z"
    },
    "papermill": {
     "duration": 0.727711,
     "end_time": "2020-12-28T05:54:08.564240",
     "exception": false,
     "start_time": "2020-12-28T05:54:07.836529",
     "status": "completed"
    },
    "tags": []
   },
   "outputs": [],
   "source": [
    "a = soup.find_all('table', 'banzuke')\n",
    "dfs = pd.read_html(str(a), flavor = 'html5lib')"
   ]
  },
  {
   "cell_type": "code",
   "execution_count": 4,
   "metadata": {
    "execution": {
     "iopub.execute_input": "2020-12-28T05:54:08.579802Z",
     "iopub.status.busy": "2020-12-28T05:54:08.579802Z",
     "iopub.status.idle": "2020-12-28T05:54:08.611110Z",
     "shell.execute_reply": "2020-12-28T05:54:08.611110Z"
    },
    "papermill": {
     "duration": 0.04687,
     "end_time": "2020-12-28T05:54:08.611110",
     "exception": false,
     "start_time": "2020-12-28T05:54:08.564240",
     "status": "completed"
    },
    "tags": []
   },
   "outputs": [
    {
     "data": {
      "text/html": [
       "<div>\n",
       "<style scoped>\n",
       "    .dataframe tbody tr th:only-of-type {\n",
       "        vertical-align: middle;\n",
       "    }\n",
       "\n",
       "    .dataframe tbody tr th {\n",
       "        vertical-align: top;\n",
       "    }\n",
       "\n",
       "    .dataframe thead th {\n",
       "        text-align: right;\n",
       "    }\n",
       "</style>\n",
       "<table border=\"1\" class=\"dataframe\">\n",
       "  <thead>\n",
       "    <tr style=\"text-align: right;\">\n",
       "      <th></th>\n",
       "      <th>Result</th>\n",
       "      <th>East</th>\n",
       "      <th>Rank</th>\n",
       "      <th>West</th>\n",
       "      <th>Result.1</th>\n",
       "    </tr>\n",
       "  </thead>\n",
       "  <tbody>\n",
       "    <tr>\n",
       "      <th>0</th>\n",
       "      <td>0-0-15</td>\n",
       "      <td>Hakuho</td>\n",
       "      <td>Y</td>\n",
       "      <td>Kakuryu</td>\n",
       "      <td>0-0-15</td>\n",
       "    </tr>\n",
       "    <tr>\n",
       "      <th>1</th>\n",
       "      <td>10-5</td>\n",
       "      <td>Asanoyama</td>\n",
       "      <td>O</td>\n",
       "      <td>Takakeisho</td>\n",
       "      <td>12-3 J</td>\n",
       "    </tr>\n",
       "    <tr>\n",
       "      <th>2</th>\n",
       "      <td>13-2 YSK ↑</td>\n",
       "      <td>Shodai</td>\n",
       "      <td>S</td>\n",
       "      <td>Mitakeumi</td>\n",
       "      <td>8-7</td>\n",
       "    </tr>\n",
       "    <tr>\n",
       "      <th>3</th>\n",
       "      <td>5-10 ↓</td>\n",
       "      <td>Daieisho</td>\n",
       "      <td>S</td>\n",
       "      <td>NaN</td>\n",
       "      <td>NaN</td>\n",
       "    </tr>\n",
       "    <tr>\n",
       "      <th>4</th>\n",
       "      <td>4-11 ↓</td>\n",
       "      <td>Okinoumi</td>\n",
       "      <td>K</td>\n",
       "      <td>Endo</td>\n",
       "      <td>3-9-3 ↓</td>\n",
       "    </tr>\n",
       "  </tbody>\n",
       "</table>\n",
       "</div>"
      ],
      "text/plain": [
       "       Result       East Rank        West Result.1\n",
       "0      0-0-15     Hakuho    Y     Kakuryu   0-0-15\n",
       "1        10-5  Asanoyama    O  Takakeisho   12-3 J\n",
       "2  13-2 YSK ↑     Shodai    S   Mitakeumi      8-7\n",
       "3      5-10 ↓   Daieisho    S         NaN      NaN\n",
       "4      4-11 ↓   Okinoumi    K        Endo  3-9-3 ↓"
      ]
     },
     "execution_count": 4,
     "metadata": {},
     "output_type": "execute_result"
    }
   ],
   "source": [
    "df = pd.concat(dfs[0:3])\n",
    "df.head()"
   ]
  },
  {
   "cell_type": "code",
   "execution_count": 5,
   "metadata": {
    "execution": {
     "iopub.execute_input": "2020-12-28T05:54:08.695690Z",
     "iopub.status.busy": "2020-12-28T05:54:08.664416Z",
     "iopub.status.idle": "2020-12-28T05:54:09.307135Z",
     "shell.execute_reply": "2020-12-28T05:54:09.307135Z"
    },
    "papermill": {
     "duration": 0.696025,
     "end_time": "2020-12-28T05:54:09.307135",
     "exception": false,
     "start_time": "2020-12-28T05:54:08.611110",
     "status": "completed"
    },
    "tags": []
   },
   "outputs": [
    {
     "data": {
      "text/html": [
       "<div>\n",
       "<style scoped>\n",
       "    .dataframe tbody tr th:only-of-type {\n",
       "        vertical-align: middle;\n",
       "    }\n",
       "\n",
       "    .dataframe tbody tr th {\n",
       "        vertical-align: top;\n",
       "    }\n",
       "\n",
       "    .dataframe thead th {\n",
       "        text-align: right;\n",
       "    }\n",
       "</style>\n",
       "<table border=\"1\" class=\"dataframe\">\n",
       "  <thead>\n",
       "    <tr style=\"text-align: right;\">\n",
       "      <th></th>\n",
       "      <th>Result</th>\n",
       "      <th>East</th>\n",
       "      <th>Rank</th>\n",
       "      <th>West</th>\n",
       "      <th>Result.1</th>\n",
       "    </tr>\n",
       "  </thead>\n",
       "  <tbody>\n",
       "    <tr>\n",
       "      <th>0</th>\n",
       "      <td>0-0-15</td>\n",
       "      <td>Hakuho</td>\n",
       "      <td>Y</td>\n",
       "      <td>Kakuryu</td>\n",
       "      <td>0-0-15</td>\n",
       "    </tr>\n",
       "    <tr>\n",
       "      <th>1</th>\n",
       "      <td>10-5</td>\n",
       "      <td>Asanoyama</td>\n",
       "      <td>O</td>\n",
       "      <td>Takakeisho</td>\n",
       "      <td>12-3 J</td>\n",
       "    </tr>\n",
       "    <tr>\n",
       "      <th>2</th>\n",
       "      <td>13-2 YSK ↑</td>\n",
       "      <td>Shodai</td>\n",
       "      <td>S</td>\n",
       "      <td>Mitakeumi</td>\n",
       "      <td>8-7</td>\n",
       "    </tr>\n",
       "    <tr>\n",
       "      <th>3</th>\n",
       "      <td>5-10 ↓</td>\n",
       "      <td>Daieisho</td>\n",
       "      <td>S</td>\n",
       "      <td>NaN</td>\n",
       "      <td>NaN</td>\n",
       "    </tr>\n",
       "    <tr>\n",
       "      <th>4</th>\n",
       "      <td>4-11 ↓</td>\n",
       "      <td>Okinoumi</td>\n",
       "      <td>K</td>\n",
       "      <td>Endo</td>\n",
       "      <td>3-9-3 ↓</td>\n",
       "    </tr>\n",
       "    <tr>\n",
       "      <th>...</th>\n",
       "      <td>...</td>\n",
       "      <td>...</td>\n",
       "      <td>...</td>\n",
       "      <td>...</td>\n",
       "      <td>...</td>\n",
       "    </tr>\n",
       "    <tr>\n",
       "      <th>55</th>\n",
       "      <td>4-3</td>\n",
       "      <td>Sadanoryu</td>\n",
       "      <td>Ms56</td>\n",
       "      <td>Tokunomusashi</td>\n",
       "      <td>4-3</td>\n",
       "    </tr>\n",
       "    <tr>\n",
       "      <th>56</th>\n",
       "      <td>0-0-7 ↓</td>\n",
       "      <td>Inoue</td>\n",
       "      <td>Ms57</td>\n",
       "      <td>Fukamiyama</td>\n",
       "      <td>4-3</td>\n",
       "    </tr>\n",
       "    <tr>\n",
       "      <th>57</th>\n",
       "      <td>2-5 ↓</td>\n",
       "      <td>Izumigawa</td>\n",
       "      <td>Ms58</td>\n",
       "      <td>Oyamatoumi</td>\n",
       "      <td>2-5 ↓</td>\n",
       "    </tr>\n",
       "    <tr>\n",
       "      <th>58</th>\n",
       "      <td>5-2</td>\n",
       "      <td>Ito</td>\n",
       "      <td>Ms59</td>\n",
       "      <td>Itadaki</td>\n",
       "      <td>4-3</td>\n",
       "    </tr>\n",
       "    <tr>\n",
       "      <th>59</th>\n",
       "      <td>5-2</td>\n",
       "      <td>Aozora</td>\n",
       "      <td>Ms60</td>\n",
       "      <td>Aomihama</td>\n",
       "      <td>0-0-7 ↓</td>\n",
       "    </tr>\n",
       "  </tbody>\n",
       "</table>\n",
       "<p>96 rows × 5 columns</p>\n",
       "</div>"
      ],
      "text/plain": [
       "        Result       East  Rank           West Result.1\n",
       "0       0-0-15     Hakuho     Y        Kakuryu   0-0-15\n",
       "1         10-5  Asanoyama     O     Takakeisho   12-3 J\n",
       "2   13-2 YSK ↑     Shodai     S      Mitakeumi      8-7\n",
       "3       5-10 ↓   Daieisho     S            NaN      NaN\n",
       "4       4-11 ↓   Okinoumi     K           Endo  3-9-3 ↓\n",
       "..         ...        ...   ...            ...      ...\n",
       "55         4-3  Sadanoryu  Ms56  Tokunomusashi      4-3\n",
       "56     0-0-7 ↓      Inoue  Ms57     Fukamiyama      4-3\n",
       "57       2-5 ↓  Izumigawa  Ms58     Oyamatoumi    2-5 ↓\n",
       "58         5-2        Ito  Ms59        Itadaki      4-3\n",
       "59         5-2     Aozora  Ms60       Aomihama  0-0-7 ↓\n",
       "\n",
       "[96 rows x 5 columns]"
      ]
     },
     "execution_count": 5,
     "metadata": {},
     "output_type": "execute_result"
    }
   ],
   "source": [
    "def retrieve_results(soup):\n",
    "    \"\"\"\n",
    "    takes banzuke soup object and turns into data frame for \n",
    "    further processing\n",
    "    \"\"\"\n",
    "    \n",
    "    tables = soup.find_all('table', 'banzuke')\n",
    "    dfs = pd.read_html(str(tables), flavor = 'html5lib')\n",
    "    df = pd.concat(dfs[0:3])# concats makuuchi through makushita\n",
    "    df.columns = df.columns.astype('str')\n",
    "    if ~df.columns.str.contains('East|West').any():\n",
    "        return 'None'\n",
    "    \n",
    "    return df\n",
    "\n",
    "retrieve_results(soup)"
   ]
  },
  {
   "cell_type": "code",
   "execution_count": 6,
   "metadata": {
    "execution": {
     "iopub.execute_input": "2020-12-28T05:54:09.317166Z",
     "iopub.status.busy": "2020-12-28T05:54:09.317166Z",
     "iopub.status.idle": "2020-12-28T05:54:59.217228Z",
     "shell.execute_reply": "2020-12-28T05:54:59.217228Z"
    },
    "papermill": {
     "duration": 49.910093,
     "end_time": "2020-12-28T05:54:59.217228",
     "exception": false,
     "start_time": "2020-12-28T05:54:09.307135",
     "status": "completed"
    },
    "tags": []
   },
   "outputs": [
    {
     "name": "stdout",
     "output_type": "stream",
     "text": [
      "http://sumodb.sumogames.de/Banzuke.aspx?b=202001\n"
     ]
    },
    {
     "name": "stdout",
     "output_type": "stream",
     "text": [
      "http://sumodb.sumogames.de/Banzuke.aspx?b=202003\n"
     ]
    },
    {
     "name": "stdout",
     "output_type": "stream",
     "text": [
      "http://sumodb.sumogames.de/Banzuke.aspx?b=202007\n"
     ]
    },
    {
     "name": "stdout",
     "output_type": "stream",
     "text": [
      "http://sumodb.sumogames.de/Banzuke.aspx?b=202009\n"
     ]
    },
    {
     "name": "stdout",
     "output_type": "stream",
     "text": [
      "http://sumodb.sumogames.de/Banzuke.aspx?b=202011\n"
     ]
    },
    {
     "data": {
      "text/html": [
       "<div>\n",
       "<style scoped>\n",
       "    .dataframe tbody tr th:only-of-type {\n",
       "        vertical-align: middle;\n",
       "    }\n",
       "\n",
       "    .dataframe tbody tr th {\n",
       "        vertical-align: top;\n",
       "    }\n",
       "\n",
       "    .dataframe thead th {\n",
       "        text-align: right;\n",
       "    }\n",
       "</style>\n",
       "<table border=\"1\" class=\"dataframe\">\n",
       "  <thead>\n",
       "    <tr style=\"text-align: right;\">\n",
       "      <th></th>\n",
       "      <th>Result</th>\n",
       "      <th>East</th>\n",
       "      <th>Rank</th>\n",
       "      <th>West</th>\n",
       "      <th>Result.1</th>\n",
       "      <th>year</th>\n",
       "      <th>month</th>\n",
       "    </tr>\n",
       "  </thead>\n",
       "  <tbody>\n",
       "    <tr>\n",
       "      <th>0</th>\n",
       "      <td>1-3-11</td>\n",
       "      <td>Hakuho</td>\n",
       "      <td>Y</td>\n",
       "      <td>Kakuryu</td>\n",
       "      <td>1-4-10</td>\n",
       "      <td>2020</td>\n",
       "      <td>01</td>\n",
       "    </tr>\n",
       "    <tr>\n",
       "      <th>1</th>\n",
       "      <td>11-4</td>\n",
       "      <td>Takakeisho</td>\n",
       "      <td>O</td>\n",
       "      <td>Goeido</td>\n",
       "      <td>5-10</td>\n",
       "      <td>2020</td>\n",
       "      <td>01</td>\n",
       "    </tr>\n",
       "    <tr>\n",
       "      <th>2</th>\n",
       "      <td>10-5</td>\n",
       "      <td>Asanoyama</td>\n",
       "      <td>S</td>\n",
       "      <td>Takayasu</td>\n",
       "      <td>6-9 ↓</td>\n",
       "      <td>2020</td>\n",
       "      <td>01</td>\n",
       "    </tr>\n",
       "    <tr>\n",
       "      <th>3</th>\n",
       "      <td>5-10 ↓</td>\n",
       "      <td>Abi</td>\n",
       "      <td>K</td>\n",
       "      <td>Daieisho</td>\n",
       "      <td>7-8 ↓</td>\n",
       "      <td>2020</td>\n",
       "      <td>01</td>\n",
       "    </tr>\n",
       "    <tr>\n",
       "      <th>4</th>\n",
       "      <td>9-6 S ↑</td>\n",
       "      <td>Endo</td>\n",
       "      <td>M1</td>\n",
       "      <td>Myogiryu</td>\n",
       "      <td>5-10</td>\n",
       "      <td>2020</td>\n",
       "      <td>01</td>\n",
       "    </tr>\n",
       "    <tr>\n",
       "      <th>...</th>\n",
       "      <td>...</td>\n",
       "      <td>...</td>\n",
       "      <td>...</td>\n",
       "      <td>...</td>\n",
       "      <td>...</td>\n",
       "      <td>...</td>\n",
       "      <td>...</td>\n",
       "    </tr>\n",
       "    <tr>\n",
       "      <th>473</th>\n",
       "      <td>3-4</td>\n",
       "      <td>Shoji</td>\n",
       "      <td>Ms56</td>\n",
       "      <td>Chiyoraizan</td>\n",
       "      <td>3-4</td>\n",
       "      <td>2020</td>\n",
       "      <td>11</td>\n",
       "    </tr>\n",
       "    <tr>\n",
       "      <th>474</th>\n",
       "      <td>1-6</td>\n",
       "      <td>Takaryu</td>\n",
       "      <td>Ms57</td>\n",
       "      <td>Hananofuji</td>\n",
       "      <td>5-2</td>\n",
       "      <td>2020</td>\n",
       "      <td>11</td>\n",
       "    </tr>\n",
       "    <tr>\n",
       "      <th>475</th>\n",
       "      <td>2-5</td>\n",
       "      <td>Kitadaichi</td>\n",
       "      <td>Ms58</td>\n",
       "      <td>Tosamidori</td>\n",
       "      <td>4-3</td>\n",
       "      <td>2020</td>\n",
       "      <td>11</td>\n",
       "    </tr>\n",
       "    <tr>\n",
       "      <th>476</th>\n",
       "      <td>5-2</td>\n",
       "      <td>Kirinofuji</td>\n",
       "      <td>Ms59</td>\n",
       "      <td>Tanabe</td>\n",
       "      <td>5-2</td>\n",
       "      <td>2020</td>\n",
       "      <td>11</td>\n",
       "    </tr>\n",
       "    <tr>\n",
       "      <th>477</th>\n",
       "      <td>4-3</td>\n",
       "      <td>Kaiho</td>\n",
       "      <td>Ms60</td>\n",
       "      <td>Kainoshima</td>\n",
       "      <td>6-1</td>\n",
       "      <td>2020</td>\n",
       "      <td>11</td>\n",
       "    </tr>\n",
       "  </tbody>\n",
       "</table>\n",
       "<p>478 rows × 7 columns</p>\n",
       "</div>"
      ],
      "text/plain": [
       "      Result        East  Rank         West Result.1  year month\n",
       "0     1-3-11      Hakuho     Y      Kakuryu   1-4-10  2020    01\n",
       "1       11-4  Takakeisho     O       Goeido     5-10  2020    01\n",
       "2       10-5   Asanoyama     S     Takayasu    6-9 ↓  2020    01\n",
       "3     5-10 ↓         Abi     K     Daieisho    7-8 ↓  2020    01\n",
       "4    9-6 S ↑        Endo    M1     Myogiryu     5-10  2020    01\n",
       "..       ...         ...   ...          ...      ...   ...   ...\n",
       "473      3-4       Shoji  Ms56  Chiyoraizan      3-4  2020    11\n",
       "474      1-6     Takaryu  Ms57   Hananofuji      5-2  2020    11\n",
       "475      2-5  Kitadaichi  Ms58   Tosamidori      4-3  2020    11\n",
       "476      5-2  Kirinofuji  Ms59       Tanabe      5-2  2020    11\n",
       "477      4-3       Kaiho  Ms60   Kainoshima      6-1  2020    11\n",
       "\n",
       "[478 rows x 7 columns]"
      ]
     },
     "execution_count": 6,
     "metadata": {},
     "output_type": "execute_result"
    }
   ],
   "source": [
    "def scrape_hoshitori(year = 2019):\n",
    "    \"\"\"\n",
    "    scrape all the banzukes for given year and get hoshitori back\n",
    "    \"\"\"\n",
    "\n",
    "    months = [str(x).zfill(2) for x in list(range(1,13,1))]\n",
    "    \n",
    "    url = 'http://sumodb.sumogames.de/Banzuke.aspx?b={}{}'\n",
    "    \n",
    "    urls = [url.format(year, x) for x in months ]\n",
    "    \n",
    "    hoshitori = []\n",
    "    \n",
    "    for r in urls:\n",
    "        res = requests.get(r)\n",
    "        soup = BeautifulSoup(res.content)\n",
    "        hoshi = retrieve_results(soup)\n",
    "        if type(hoshi) == type(str()):\n",
    "            continue        \n",
    "        print(r)\n",
    "        hoshi['year'] = year\n",
    "        hoshi['month'] = r[-2::1]\n",
    "        hoshitori.append(hoshi)\n",
    "    \n",
    "    hoshitori = pd.concat(hoshitori, ignore_index=True)\n",
    "    \n",
    "    return hoshitori\n",
    "\n",
    "scrape_hoshitori(year = 2020)"
   ]
  },
  {
   "cell_type": "code",
   "execution_count": 7,
   "metadata": {
    "execution": {
     "iopub.execute_input": "2020-12-28T05:54:59.232799Z",
     "iopub.status.busy": "2020-12-28T05:54:59.232799Z",
     "iopub.status.idle": "2020-12-28T05:55:44.556910Z",
     "shell.execute_reply": "2020-12-28T05:55:44.556910Z"
    },
    "papermill": {
     "duration": 45.339682,
     "end_time": "2020-12-28T05:55:44.556910",
     "exception": false,
     "start_time": "2020-12-28T05:54:59.217228",
     "status": "completed"
    },
    "tags": []
   },
   "outputs": [
    {
     "name": "stdout",
     "output_type": "stream",
     "text": [
      "http://sumodb.sumogames.de/Banzuke.aspx?b=202001\n"
     ]
    },
    {
     "name": "stdout",
     "output_type": "stream",
     "text": [
      "http://sumodb.sumogames.de/Banzuke.aspx?b=202003\n"
     ]
    },
    {
     "name": "stdout",
     "output_type": "stream",
     "text": [
      "http://sumodb.sumogames.de/Banzuke.aspx?b=202007\n"
     ]
    },
    {
     "name": "stdout",
     "output_type": "stream",
     "text": [
      "http://sumodb.sumogames.de/Banzuke.aspx?b=202009\n"
     ]
    },
    {
     "name": "stdout",
     "output_type": "stream",
     "text": [
      "http://sumodb.sumogames.de/Banzuke.aspx?b=202011\n"
     ]
    }
   ],
   "source": [
    "year = 2020\n",
    "hoshitori = scrape_hoshitori(year = year)\n",
    "hoshitori.to_csv('hoshitori_{}.csv'.format(year), index = False)"
   ]
  },
  {
   "cell_type": "code",
   "execution_count": null,
   "metadata": {
    "papermill": {
     "duration": 0.01561,
     "end_time": "2020-12-28T05:55:44.572520",
     "exception": false,
     "start_time": "2020-12-28T05:55:44.556910",
     "status": "completed"
    },
    "tags": []
   },
   "outputs": [],
   "source": []
  }
 ],
 "metadata": {
  "kernelspec": {
   "display_name": "Python 3",
   "language": "python",
   "name": "python3"
  },
  "language_info": {
   "codemirror_mode": {
    "name": "ipython",
    "version": 3
   },
   "file_extension": ".py",
   "mimetype": "text/x-python",
   "name": "python",
   "nbconvert_exporter": "python",
   "pygments_lexer": "ipython3",
   "version": "3.8.5"
  },
  "papermill": {
   "default_parameters": {},
   "duration": 105.583773,
   "end_time": "2020-12-28T05:55:44.910800",
   "environment_variables": {},
   "exception": null,
   "input_path": "C:\\Users/Nathaniel Gillgren/Desktop/sumo_banzuke/get_hoshitori.ipynb",
   "output_path": "C:\\Users/Nathaniel Gillgren/Desktop/sumo_banzuke/get_hoshitori.ipynb",
   "parameters": {},
   "start_time": "2020-12-28T05:53:59.327027",
   "version": "2.2.2"
  }
 },
 "nbformat": 4,
 "nbformat_minor": 4
}