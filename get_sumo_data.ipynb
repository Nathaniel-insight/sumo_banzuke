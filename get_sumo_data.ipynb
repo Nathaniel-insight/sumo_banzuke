{
 "cells": [
  {
   "cell_type": "markdown",
   "metadata": {},
   "source": [
    "# Grab data with scrapeing modules and save locally for cleaning and processin"
   ]
  },
  {
   "cell_type": "code",
   "execution_count": 90,
   "metadata": {},
   "outputs": [],
   "source": [
    "import pandas as pd\n",
    "import itertools"
   ]
  },
  {
   "cell_type": "code",
   "execution_count": 3,
   "metadata": {},
   "outputs": [],
   "source": [
    "%load_ext autoreload"
   ]
  },
  {
   "cell_type": "code",
   "execution_count": 4,
   "metadata": {},
   "outputs": [],
   "source": [
    "%autoreload 2"
   ]
  },
  {
   "cell_type": "code",
   "execution_count": 43,
   "metadata": {},
   "outputs": [],
   "source": [
    "import get_sumo_data as gd\n",
    "import process_banzuke as pb"
   ]
  },
  {
   "cell_type": "code",
   "execution_count": 40,
   "metadata": {},
   "outputs": [
    {
     "name": "stdout",
     "output_type": "stream",
     "text": [
      "http://sumodb.sumogames.de/Banzuke.aspx?b=202011&heya=-1&shusshin=-1&snr=on&hl=on&c=on&simple=on\n"
     ]
    }
   ],
   "source": [
    "sp = gd.get_results(2020, 11)"
   ]
  },
  {
   "cell_type": "code",
   "execution_count": 42,
   "metadata": {},
   "outputs": [
    {
     "data": {
      "text/html": [
       "<div>\n",
       "<style scoped>\n",
       "    .dataframe tbody tr th:only-of-type {\n",
       "        vertical-align: middle;\n",
       "    }\n",
       "\n",
       "    .dataframe tbody tr th {\n",
       "        vertical-align: top;\n",
       "    }\n",
       "\n",
       "    .dataframe thead th {\n",
       "        text-align: right;\n",
       "    }\n",
       "</style>\n",
       "<table border=\"1\" class=\"dataframe\">\n",
       "  <thead>\n",
       "    <tr style=\"text-align: right;\">\n",
       "      <th></th>\n",
       "      <th>Rank</th>\n",
       "      <th>Rikishi</th>\n",
       "      <th>W</th>\n",
       "      <th>L</th>\n",
       "      <th>Next</th>\n",
       "      <th>year</th>\n",
       "      <th>month</th>\n",
       "    </tr>\n",
       "  </thead>\n",
       "  <tbody>\n",
       "    <tr>\n",
       "      <th>0</th>\n",
       "      <td>Y1e</td>\n",
       "      <td>Hakuho</td>\n",
       "      <td>0</td>\n",
       "      <td>0</td>\n",
       "      <td>Y1e</td>\n",
       "      <td>2020</td>\n",
       "      <td>11</td>\n",
       "    </tr>\n",
       "    <tr>\n",
       "      <th>1</th>\n",
       "      <td>Y1w</td>\n",
       "      <td>Kakuryu</td>\n",
       "      <td>0</td>\n",
       "      <td>0</td>\n",
       "      <td>Y1w</td>\n",
       "      <td>2020</td>\n",
       "      <td>11</td>\n",
       "    </tr>\n",
       "    <tr>\n",
       "      <th>2</th>\n",
       "      <td>O1e</td>\n",
       "      <td>Takakeisho</td>\n",
       "      <td>13</td>\n",
       "      <td>2</td>\n",
       "      <td>O1e</td>\n",
       "      <td>2020</td>\n",
       "      <td>11</td>\n",
       "    </tr>\n",
       "    <tr>\n",
       "      <th>3</th>\n",
       "      <td>O1w</td>\n",
       "      <td>Asanoyama</td>\n",
       "      <td>1</td>\n",
       "      <td>2</td>\n",
       "      <td>O2e</td>\n",
       "      <td>2020</td>\n",
       "      <td>11</td>\n",
       "    </tr>\n",
       "    <tr>\n",
       "      <th>4</th>\n",
       "      <td>O2e</td>\n",
       "      <td>Shodai</td>\n",
       "      <td>3</td>\n",
       "      <td>2</td>\n",
       "      <td>O1w</td>\n",
       "      <td>2020</td>\n",
       "      <td>11</td>\n",
       "    </tr>\n",
       "  </tbody>\n",
       "</table>\n",
       "</div>"
      ],
      "text/plain": [
       "  Rank     Rikishi   W  L Next  year  month\n",
       "0  Y1e      Hakuho   0  0  Y1e  2020     11\n",
       "1  Y1w     Kakuryu   0  0  Y1w  2020     11\n",
       "2  O1e  Takakeisho  13  2  O1e  2020     11\n",
       "3  O1w   Asanoyama   1  2  O2e  2020     11\n",
       "4  O2e      Shodai   3  2  O1w  2020     11"
      ]
     },
     "execution_count": 42,
     "metadata": {},
     "output_type": "execute_result"
    }
   ],
   "source": [
    "sp.head()"
   ]
  },
  {
   "cell_type": "code",
   "execution_count": 82,
   "metadata": {},
   "outputs": [
    {
     "name": "stdout",
     "output_type": "stream",
     "text": [
      "http://sumodb.sumogames.de/Banzuke.aspx?b=202001&heya=-1&shusshin=-1&snr=on&hl=on&c=on&simple=on\n",
      "http://sumodb.sumogames.de/Banzuke.aspx?b=202003&heya=-1&shusshin=-1&snr=on&hl=on&c=on&simple=on\n",
      "http://sumodb.sumogames.de/Banzuke.aspx?b=202005&heya=-1&shusshin=-1&snr=on&hl=on&c=on&simple=on\n",
      "http://sumodb.sumogames.de/Banzuke.aspx?b=202007&heya=-1&shusshin=-1&snr=on&hl=on&c=on&simple=on\n",
      "http://sumodb.sumogames.de/Banzuke.aspx?b=202009&heya=-1&shusshin=-1&snr=on&hl=on&c=on&simple=on\n",
      "http://sumodb.sumogames.de/Banzuke.aspx?b=202011&heya=-1&shusshin=-1&snr=on&hl=on&c=on&simple=on\n",
      "<class 'pandas.core.frame.DataFrame'>\n",
      "Int64Index: 3366 entries, 0 to 669\n",
      "Data columns (total 7 columns):\n",
      " #   Column   Non-Null Count  Dtype \n",
      "---  ------   --------------  ----- \n",
      " 0   Rank     3366 non-null   object\n",
      " 1   Rikishi  3366 non-null   object\n",
      " 2   W        3366 non-null   int64 \n",
      " 3   L        3366 non-null   int64 \n",
      " 4   Next     3303 non-null   object\n",
      " 5   year     3366 non-null   int64 \n",
      " 6   month    3366 non-null   object\n",
      "dtypes: int64(3), object(4)\n",
      "memory usage: 210.4+ KB\n"
     ]
    }
   ],
   "source": [
    "sy = gd.get_year(2020)\n",
    "sy.info()"
   ]
  },
  {
   "cell_type": "code",
   "execution_count": 81,
   "metadata": {},
   "outputs": [
    {
     "data": {
      "text/plain": [
       "5"
      ]
     },
     "execution_count": 81,
     "metadata": {},
     "output_type": "execute_result"
    }
   ],
   "source": [
    "len(sy)"
   ]
  },
  {
   "cell_type": "code",
   "execution_count": 85,
   "metadata": {},
   "outputs": [
    {
     "data": {
      "text/html": [
       "<div>\n",
       "<style scoped>\n",
       "    .dataframe tbody tr th:only-of-type {\n",
       "        vertical-align: middle;\n",
       "    }\n",
       "\n",
       "    .dataframe tbody tr th {\n",
       "        vertical-align: top;\n",
       "    }\n",
       "\n",
       "    .dataframe thead th {\n",
       "        text-align: right;\n",
       "    }\n",
       "</style>\n",
       "<table border=\"1\" class=\"dataframe\">\n",
       "  <thead>\n",
       "    <tr style=\"text-align: right;\">\n",
       "      <th></th>\n",
       "      <th>Rank</th>\n",
       "      <th>Rikishi</th>\n",
       "      <th>W</th>\n",
       "      <th>L</th>\n",
       "      <th>Next</th>\n",
       "      <th>year</th>\n",
       "      <th>month</th>\n",
       "    </tr>\n",
       "  </thead>\n",
       "  <tbody>\n",
       "    <tr>\n",
       "      <th>0</th>\n",
       "      <td>Y1e</td>\n",
       "      <td>Hakuho</td>\n",
       "      <td>1</td>\n",
       "      <td>3</td>\n",
       "      <td>Y1e</td>\n",
       "      <td>2020</td>\n",
       "      <td>01</td>\n",
       "    </tr>\n",
       "    <tr>\n",
       "      <th>1</th>\n",
       "      <td>Y1w</td>\n",
       "      <td>Kakuryu</td>\n",
       "      <td>1</td>\n",
       "      <td>4</td>\n",
       "      <td>Y1wYO</td>\n",
       "      <td>2020</td>\n",
       "      <td>01</td>\n",
       "    </tr>\n",
       "    <tr>\n",
       "      <th>2</th>\n",
       "      <td>O1e</td>\n",
       "      <td>Takakeisho</td>\n",
       "      <td>11</td>\n",
       "      <td>4</td>\n",
       "      <td>O1e</td>\n",
       "      <td>2020</td>\n",
       "      <td>01</td>\n",
       "    </tr>\n",
       "    <tr>\n",
       "      <th>3</th>\n",
       "      <td>O1w</td>\n",
       "      <td>Goeido</td>\n",
       "      <td>5</td>\n",
       "      <td>10</td>\n",
       "      <td>NaN</td>\n",
       "      <td>2020</td>\n",
       "      <td>01</td>\n",
       "    </tr>\n",
       "    <tr>\n",
       "      <th>4</th>\n",
       "      <td>S1e</td>\n",
       "      <td>Asanoyama</td>\n",
       "      <td>10</td>\n",
       "      <td>5</td>\n",
       "      <td>S1e</td>\n",
       "      <td>2020</td>\n",
       "      <td>01</td>\n",
       "    </tr>\n",
       "  </tbody>\n",
       "</table>\n",
       "</div>"
      ],
      "text/plain": [
       "  Rank     Rikishi   W   L   Next  year month\n",
       "0  Y1e      Hakuho   1   3    Y1e  2020    01\n",
       "1  Y1w     Kakuryu   1   4  Y1wYO  2020    01\n",
       "2  O1e  Takakeisho  11   4    O1e  2020    01\n",
       "3  O1w      Goeido   5  10    NaN  2020    01\n",
       "4  S1e   Asanoyama  10   5    S1e  2020    01"
      ]
     },
     "execution_count": 85,
     "metadata": {},
     "output_type": "execute_result"
    }
   ],
   "source": [
    "sy.head()"
   ]
  },
  {
   "cell_type": "code",
   "execution_count": 87,
   "metadata": {},
   "outputs": [
    {
     "data": {
      "text/plain": [
       "665    6\n",
       "666    6\n",
       "667    6\n",
       "668    6\n",
       "669    6\n",
       "Name: Rank, dtype: int64"
      ]
     },
     "execution_count": 87,
     "metadata": {},
     "output_type": "execute_result"
    }
   ],
   "source": [
    "pb.tier_rank(sy.Rank).tail()"
   ]
  },
  {
   "cell_type": "code",
   "execution_count": 101,
   "metadata": {},
   "outputs": [
    {
     "name": "stdout",
     "output_type": "stream",
     "text": [
      "<class 'pandas.core.frame.DataFrame'>\n",
      "Int64Index: 3366 entries, 0 to 669\n",
      "Data columns (total 7 columns):\n",
      " #   Column   Non-Null Count  Dtype \n",
      "---  ------   --------------  ----- \n",
      " 0   Rank     3366 non-null   object\n",
      " 1   Rikishi  3366 non-null   object\n",
      " 2   W        3366 non-null   int64 \n",
      " 3   L        3366 non-null   int64 \n",
      " 4   Next     3303 non-null   object\n",
      " 5   year     3366 non-null   int64 \n",
      " 6   month    3366 non-null   object\n",
      "dtypes: int64(3), object(4)\n",
      "memory usage: 210.4+ KB\n"
     ]
    }
   ],
   "source": [
    "sy.info()"
   ]
  },
  {
   "cell_type": "code",
   "execution_count": 102,
   "metadata": {},
   "outputs": [
    {
     "ename": "TypeError",
     "evalue": "'float' object is not iterable",
     "output_type": "error",
     "traceback": [
      "\u001b[1;31m---------------------------------------------------------------------------\u001b[0m",
      "\u001b[1;31mTypeError\u001b[0m                                 Traceback (most recent call last)",
      "\u001b[1;32m<ipython-input-102-6dc2a1867e28>\u001b[0m in \u001b[0;36m<module>\u001b[1;34m\u001b[0m\n\u001b[1;32m----> 1\u001b[1;33m \u001b[0mpb\u001b[0m\u001b[1;33m.\u001b[0m\u001b[0mtier_rank\u001b[0m\u001b[1;33m(\u001b[0m\u001b[0msy\u001b[0m\u001b[1;33m.\u001b[0m\u001b[0mNext\u001b[0m\u001b[1;33m)\u001b[0m\u001b[1;33m\u001b[0m\u001b[1;33m\u001b[0m\u001b[0m\n\u001b[0m",
      "\u001b[1;32m~\\Desktop\\sumo_banzuke\\process_banzuke.py\u001b[0m in \u001b[0;36mtier_rank\u001b[1;34m(df_rank)\u001b[0m\n\u001b[0;32m     29\u001b[0m     \"\"\"\n\u001b[0;32m     30\u001b[0m \u001b[1;33m\u001b[0m\u001b[0m\n\u001b[1;32m---> 31\u001b[1;33m     \u001b[0mdf_tier\u001b[0m \u001b[1;33m=\u001b[0m \u001b[0mdf_rank\u001b[0m\u001b[1;33m.\u001b[0m\u001b[0mapply\u001b[0m\u001b[1;33m(\u001b[0m\u001b[0mget_tier\u001b[0m\u001b[1;33m)\u001b[0m\u001b[1;33m\u001b[0m\u001b[1;33m\u001b[0m\u001b[0m\n\u001b[0m\u001b[0;32m     32\u001b[0m     mapper = {\n\u001b[0;32m     33\u001b[0m         \u001b[1;34m'Y'\u001b[0m\u001b[1;33m:\u001b[0m \u001b[1;36m1\u001b[0m\u001b[1;33m,\u001b[0m\u001b[1;33m\u001b[0m\u001b[1;33m\u001b[0m\u001b[0m\n",
      "\u001b[1;32mC:\\ProgramData\\Anaconda3\\envs\\elyra\\lib\\site-packages\\pandas\\core\\series.py\u001b[0m in \u001b[0;36mapply\u001b[1;34m(self, func, convert_dtype, args, **kwds)\u001b[0m\n\u001b[0;32m   4211\u001b[0m             \u001b[1;32melse\u001b[0m\u001b[1;33m:\u001b[0m\u001b[1;33m\u001b[0m\u001b[1;33m\u001b[0m\u001b[0m\n\u001b[0;32m   4212\u001b[0m                 \u001b[0mvalues\u001b[0m \u001b[1;33m=\u001b[0m \u001b[0mself\u001b[0m\u001b[1;33m.\u001b[0m\u001b[0mastype\u001b[0m\u001b[1;33m(\u001b[0m\u001b[0mobject\u001b[0m\u001b[1;33m)\u001b[0m\u001b[1;33m.\u001b[0m\u001b[0m_values\u001b[0m\u001b[1;33m\u001b[0m\u001b[1;33m\u001b[0m\u001b[0m\n\u001b[1;32m-> 4213\u001b[1;33m                 \u001b[0mmapped\u001b[0m \u001b[1;33m=\u001b[0m \u001b[0mlib\u001b[0m\u001b[1;33m.\u001b[0m\u001b[0mmap_infer\u001b[0m\u001b[1;33m(\u001b[0m\u001b[0mvalues\u001b[0m\u001b[1;33m,\u001b[0m \u001b[0mf\u001b[0m\u001b[1;33m,\u001b[0m \u001b[0mconvert\u001b[0m\u001b[1;33m=\u001b[0m\u001b[0mconvert_dtype\u001b[0m\u001b[1;33m)\u001b[0m\u001b[1;33m\u001b[0m\u001b[1;33m\u001b[0m\u001b[0m\n\u001b[0m\u001b[0;32m   4214\u001b[0m \u001b[1;33m\u001b[0m\u001b[0m\n\u001b[0;32m   4215\u001b[0m         \u001b[1;32mif\u001b[0m \u001b[0mlen\u001b[0m\u001b[1;33m(\u001b[0m\u001b[0mmapped\u001b[0m\u001b[1;33m)\u001b[0m \u001b[1;32mand\u001b[0m \u001b[0misinstance\u001b[0m\u001b[1;33m(\u001b[0m\u001b[0mmapped\u001b[0m\u001b[1;33m[\u001b[0m\u001b[1;36m0\u001b[0m\u001b[1;33m]\u001b[0m\u001b[1;33m,\u001b[0m \u001b[0mSeries\u001b[0m\u001b[1;33m)\u001b[0m\u001b[1;33m:\u001b[0m\u001b[1;33m\u001b[0m\u001b[1;33m\u001b[0m\u001b[0m\n",
      "\u001b[1;32mpandas\\_libs\\lib.pyx\u001b[0m in \u001b[0;36mpandas._libs.lib.map_infer\u001b[1;34m()\u001b[0m\n",
      "\u001b[1;32m~\\Desktop\\sumo_banzuke\\process_banzuke.py\u001b[0m in \u001b[0;36mget_tier\u001b[1;34m(rank_raw)\u001b[0m\n\u001b[0;32m     20\u001b[0m     \"\"\"\n\u001b[0;32m     21\u001b[0m \u001b[1;33m\u001b[0m\u001b[0m\n\u001b[1;32m---> 22\u001b[1;33m     \u001b[0mtier\u001b[0m \u001b[1;33m=\u001b[0m \u001b[1;34m\"\"\u001b[0m\u001b[1;33m.\u001b[0m\u001b[0mjoin\u001b[0m\u001b[1;33m(\u001b[0m\u001b[0mitertools\u001b[0m\u001b[1;33m.\u001b[0m\u001b[0mtakewhile\u001b[0m\u001b[1;33m(\u001b[0m\u001b[0mstr\u001b[0m\u001b[1;33m.\u001b[0m\u001b[0misalpha\u001b[0m\u001b[1;33m,\u001b[0m \u001b[0mrank_raw\u001b[0m\u001b[1;33m)\u001b[0m\u001b[1;33m)\u001b[0m\u001b[1;33m\u001b[0m\u001b[1;33m\u001b[0m\u001b[0m\n\u001b[0m\u001b[0;32m     23\u001b[0m \u001b[1;33m\u001b[0m\u001b[0m\n\u001b[0;32m     24\u001b[0m     \u001b[1;32mreturn\u001b[0m \u001b[0mtier\u001b[0m\u001b[1;33m\u001b[0m\u001b[1;33m\u001b[0m\u001b[0m\n",
      "\u001b[1;31mTypeError\u001b[0m: 'float' object is not iterable"
     ]
    }
   ],
   "source": [
    "pb.tier_rank(sy.Next)"
   ]
  },
  {
   "cell_type": "code",
   "execution_count": null,
   "metadata": {},
   "outputs": [],
   "source": []
  }
 ],
 "metadata": {
  "kernelspec": {
   "display_name": "Python 3",
   "language": "python",
   "name": "python3"
  },
  "language_info": {
   "codemirror_mode": {
    "name": "ipython",
    "version": 3
   },
   "file_extension": ".py",
   "mimetype": "text/x-python",
   "name": "python",
   "nbconvert_exporter": "python",
   "pygments_lexer": "ipython3",
   "version": "3.8.5"
  }
 },
 "nbformat": 4,
 "nbformat_minor": 4
}
