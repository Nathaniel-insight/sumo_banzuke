{
 "cells": [
  {
   "cell_type": "markdown",
   "metadata": {},
   "source": [
    "# Grab data with scrapeing modules and save locally for cleaning and processin"
   ]
  },
  {
   "cell_type": "code",
   "execution_count": 2,
   "metadata": {},
   "outputs": [],
   "source": [
    "import pandas as pd"
   ]
  },
  {
   "cell_type": "code",
   "execution_count": 3,
   "metadata": {},
   "outputs": [],
   "source": [
    "%load_ext autoreload"
   ]
  },
  {
   "cell_type": "code",
   "execution_count": 4,
   "metadata": {},
   "outputs": [],
   "source": [
    "%autoreload 2"
   ]
  },
  {
   "cell_type": "code",
   "execution_count": 43,
   "metadata": {},
   "outputs": [],
   "source": [
    "import get_sumo_data as gd\n",
    "import process_banzuke as pb"
   ]
  },
  {
   "cell_type": "code",
   "execution_count": 40,
   "metadata": {},
   "outputs": [
    {
     "name": "stdout",
     "output_type": "stream",
     "text": [
      "http://sumodb.sumogames.de/Banzuke.aspx?b=202011&heya=-1&shusshin=-1&snr=on&hl=on&c=on&simple=on\n"
     ]
    }
   ],
   "source": [
    "sp = gd.get_results(2020, 11)"
   ]
  },
  {
   "cell_type": "code",
   "execution_count": 42,
   "metadata": {},
   "outputs": [
    {
     "data": {
      "text/html": [
       "<div>\n",
       "<style scoped>\n",
       "    .dataframe tbody tr th:only-of-type {\n",
       "        vertical-align: middle;\n",
       "    }\n",
       "\n",
       "    .dataframe tbody tr th {\n",
       "        vertical-align: top;\n",
       "    }\n",
       "\n",
       "    .dataframe thead th {\n",
       "        text-align: right;\n",
       "    }\n",
       "</style>\n",
       "<table border=\"1\" class=\"dataframe\">\n",
       "  <thead>\n",
       "    <tr style=\"text-align: right;\">\n",
       "      <th></th>\n",
       "      <th>Rank</th>\n",
       "      <th>Rikishi</th>\n",
       "      <th>W</th>\n",
       "      <th>L</th>\n",
       "      <th>Next</th>\n",
       "      <th>year</th>\n",
       "      <th>month</th>\n",
       "    </tr>\n",
       "  </thead>\n",
       "  <tbody>\n",
       "    <tr>\n",
       "      <th>0</th>\n",
       "      <td>Y1e</td>\n",
       "      <td>Hakuho</td>\n",
       "      <td>0</td>\n",
       "      <td>0</td>\n",
       "      <td>Y1e</td>\n",
       "      <td>2020</td>\n",
       "      <td>11</td>\n",
       "    </tr>\n",
       "    <tr>\n",
       "      <th>1</th>\n",
       "      <td>Y1w</td>\n",
       "      <td>Kakuryu</td>\n",
       "      <td>0</td>\n",
       "      <td>0</td>\n",
       "      <td>Y1w</td>\n",
       "      <td>2020</td>\n",
       "      <td>11</td>\n",
       "    </tr>\n",
       "    <tr>\n",
       "      <th>2</th>\n",
       "      <td>O1e</td>\n",
       "      <td>Takakeisho</td>\n",
       "      <td>13</td>\n",
       "      <td>2</td>\n",
       "      <td>O1e</td>\n",
       "      <td>2020</td>\n",
       "      <td>11</td>\n",
       "    </tr>\n",
       "    <tr>\n",
       "      <th>3</th>\n",
       "      <td>O1w</td>\n",
       "      <td>Asanoyama</td>\n",
       "      <td>1</td>\n",
       "      <td>2</td>\n",
       "      <td>O2e</td>\n",
       "      <td>2020</td>\n",
       "      <td>11</td>\n",
       "    </tr>\n",
       "    <tr>\n",
       "      <th>4</th>\n",
       "      <td>O2e</td>\n",
       "      <td>Shodai</td>\n",
       "      <td>3</td>\n",
       "      <td>2</td>\n",
       "      <td>O1w</td>\n",
       "      <td>2020</td>\n",
       "      <td>11</td>\n",
       "    </tr>\n",
       "  </tbody>\n",
       "</table>\n",
       "</div>"
      ],
      "text/plain": [
       "  Rank     Rikishi   W  L Next  year  month\n",
       "0  Y1e      Hakuho   0  0  Y1e  2020     11\n",
       "1  Y1w     Kakuryu   0  0  Y1w  2020     11\n",
       "2  O1e  Takakeisho  13  2  O1e  2020     11\n",
       "3  O1w   Asanoyama   1  2  O2e  2020     11\n",
       "4  O2e      Shodai   3  2  O1w  2020     11"
      ]
     },
     "execution_count": 42,
     "metadata": {},
     "output_type": "execute_result"
    }
   ],
   "source": [
    "sp.head()"
   ]
  },
  {
   "cell_type": "code",
   "execution_count": null,
   "metadata": {},
   "outputs": [
    {
     "name": "stdout",
     "output_type": "stream",
     "text": [
      "http://sumodb.sumogames.de/Banzuke.aspx?b=202001&heya=-1&shusshin=-1&snr=on&hl=on&c=on&simple=on\n",
      "http://sumodb.sumogames.de/Banzuke.aspx?b=202003&heya=-1&shusshin=-1&snr=on&hl=on&c=on&simple=on\n",
      "http://sumodb.sumogames.de/Banzuke.aspx?b=202005&heya=-1&shusshin=-1&snr=on&hl=on&c=on&simple=on\n",
      "http://sumodb.sumogames.de/Banzuke.aspx?b=202007&heya=-1&shusshin=-1&snr=on&hl=on&c=on&simple=on\n"
     ]
    }
   ],
   "source": [
    "sy = gd.get_year(2020)\n",
    "sy.info()"
   ]
  },
  {
   "cell_type": "code",
   "execution_count": null,
   "metadata": {},
   "outputs": [],
   "source": [
    "len(sy)"
   ]
  },
  {
   "cell_type": "code",
   "execution_count": null,
   "metadata": {},
   "outputs": [],
   "source": []
  }
 ],
 "metadata": {
  "kernelspec": {
   "display_name": "Python 3",
   "language": "python",
   "name": "python3"
  },
  "language_info": {
   "codemirror_mode": {
    "name": "ipython",
    "version": 3
   },
   "file_extension": ".py",
   "mimetype": "text/x-python",
   "name": "python",
   "nbconvert_exporter": "python",
   "pygments_lexer": "ipython3",
   "version": "3.8.5"
  }
 },
 "nbformat": 4,
 "nbformat_minor": 4
}
