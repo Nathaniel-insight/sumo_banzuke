{
 "cells": [
  {
   "cell_type": "markdown",
   "metadata": {},
   "source": [
    "# Grab data with scrapeing modules and save locally for cleaning and processin"
   ]
  },
  {
   "cell_type": "code",
   "execution_count": 2,
   "metadata": {},
   "outputs": [],
   "source": [
    "import pandas as pd"
   ]
  },
  {
   "cell_type": "code",
   "execution_count": 3,
   "metadata": {},
   "outputs": [],
   "source": [
    "%load_ext autoreload"
   ]
  },
  {
   "cell_type": "code",
   "execution_count": 4,
   "metadata": {},
   "outputs": [],
   "source": [
    "%autoreload 2"
   ]
  },
  {
   "cell_type": "code",
   "execution_count": 5,
   "metadata": {},
   "outputs": [],
   "source": [
    "import scrape_banzuke as sb"
   ]
  },
  {
   "cell_type": "code",
   "execution_count": 8,
   "metadata": {},
   "outputs": [
    {
     "name": "stdout",
     "output_type": "stream",
     "text": [
      "http://sumodb.sumogames.de/Banzuke_text.aspx?b=202001\n",
      "http://sumodb.sumogames.de/Banzuke_text.aspx?b=202003\n",
      "http://sumodb.sumogames.de/Banzuke_text.aspx?b=202007\n",
      "http://sumodb.sumogames.de/Banzuke_text.aspx?b=202009\n",
      "http://sumodb.sumogames.de/Banzuke_text.aspx?b=202011\n",
      "<class 'pandas.core.frame.DataFrame'>\n",
      "RangeIndex: 350 entries, 0 to 349\n",
      "Data columns (total 9 columns):\n",
      " #   Column     Non-Null Count  Dtype \n",
      "---  ------     --------------  ----- \n",
      " 0   rank       350 non-null    object\n",
      " 1   name       350 non-null    object\n",
      " 2   pob        350 non-null    object\n",
      " 3   stable     350 non-null    object\n",
      " 4   birthdate  350 non-null    object\n",
      " 5   height     350 non-null    object\n",
      " 6   weight     350 non-null    object\n",
      " 7   year       350 non-null    int64 \n",
      " 8   month      350 non-null    object\n",
      "dtypes: int64(1), object(8)\n",
      "memory usage: 24.7+ KB\n"
     ]
    }
   ],
   "source": [
    "df_2020 = sb.scrape_year(2020)\n",
    "df_2020.info()"
   ]
  },
  {
   "cell_type": "code",
   "execution_count": 9,
   "metadata": {},
   "outputs": [
    {
     "name": "stdout",
     "output_type": "stream",
     "text": [
      "http://sumodb.sumogames.de/Banzuke_text.aspx?b=202101\n",
      "<class 'pandas.core.frame.DataFrame'>\n",
      "RangeIndex: 70 entries, 0 to 69\n",
      "Data columns (total 9 columns):\n",
      " #   Column     Non-Null Count  Dtype \n",
      "---  ------     --------------  ----- \n",
      " 0   rank       70 non-null     object\n",
      " 1   name       70 non-null     object\n",
      " 2   pob        70 non-null     object\n",
      " 3   stable     70 non-null     object\n",
      " 4   birthdate  70 non-null     object\n",
      " 5   height     70 non-null     object\n",
      " 6   weight     70 non-null     object\n",
      " 7   year       70 non-null     int64 \n",
      " 8   month      70 non-null     object\n",
      "dtypes: int64(1), object(8)\n",
      "memory usage: 5.0+ KB\n"
     ]
    }
   ],
   "source": [
    "df_2021 = sb.scrape_year(2021)\n",
    "df_2021.info()"
   ]
  },
  {
   "cell_type": "code",
   "execution_count": null,
   "metadata": {},
   "outputs": [],
   "source": [
    "to_save = pd.concat([df_2021, df_2020])"
   ]
  }
 ],
 "metadata": {
  "kernelspec": {
   "display_name": "Python 3",
   "language": "python",
   "name": "python3"
  },
  "language_info": {
   "codemirror_mode": {
    "name": "ipython",
    "version": 3
   },
   "file_extension": ".py",
   "mimetype": "text/x-python",
   "name": "python",
   "nbconvert_exporter": "python",
   "pygments_lexer": "ipython3",
   "version": "3.8.5"
  }
 },
 "nbformat": 4,
 "nbformat_minor": 4
}
