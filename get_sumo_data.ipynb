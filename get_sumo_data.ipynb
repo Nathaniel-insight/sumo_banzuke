{
 "cells": [
  {
   "cell_type": "markdown",
   "metadata": {},
   "source": [
    "# Grab data with scrapeing modules and save locally for cleaning and processin"
   ]
  },
  {
   "cell_type": "code",
   "execution_count": 2,
   "metadata": {},
   "outputs": [],
   "source": [
    "import pandas as pd"
   ]
  },
  {
   "cell_type": "code",
   "execution_count": 3,
   "metadata": {},
   "outputs": [],
   "source": [
    "%load_ext autoreload"
   ]
  },
  {
   "cell_type": "code",
   "execution_count": 4,
   "metadata": {},
   "outputs": [],
   "source": [
    "%autoreload 2"
   ]
  },
  {
   "cell_type": "code",
   "execution_count": 5,
   "metadata": {},
   "outputs": [],
   "source": [
    "import scrape_banzuke as sb"
   ]
  },
  {
   "cell_type": "code",
   "execution_count": 8,
   "metadata": {},
   "outputs": [
    {
     "name": "stdout",
     "output_type": "stream",
     "text": [
      "http://sumodb.sumogames.de/Banzuke_text.aspx?b=202001\n",
      "http://sumodb.sumogames.de/Banzuke_text.aspx?b=202003\n",
      "http://sumodb.sumogames.de/Banzuke_text.aspx?b=202007\n",
      "http://sumodb.sumogames.de/Banzuke_text.aspx?b=202009\n",
      "http://sumodb.sumogames.de/Banzuke_text.aspx?b=202011\n",
      "<class 'pandas.core.frame.DataFrame'>\n",
      "RangeIndex: 350 entries, 0 to 349\n",
      "Data columns (total 9 columns):\n",
      " #   Column     Non-Null Count  Dtype \n",
      "---  ------     --------------  ----- \n",
      " 0   rank       350 non-null    object\n",
      " 1   name       350 non-null    object\n",
      " 2   pob        350 non-null    object\n",
      " 3   stable     350 non-null    object\n",
      " 4   birthdate  350 non-null    object\n",
      " 5   height     350 non-null    object\n",
      " 6   weight     350 non-null    object\n",
      " 7   year       350 non-null    int64 \n",
      " 8   month      350 non-null    object\n",
      "dtypes: int64(1), object(8)\n",
      "memory usage: 24.7+ KB\n"
     ]
    }
   ],
   "source": [
    "df_2020 = sb.scrape_year(2020)\n",
    "df_2020.info()"
   ]
  },
  {
   "cell_type": "code",
   "execution_count": 9,
   "metadata": {},
   "outputs": [
    {
     "name": "stdout",
     "output_type": "stream",
     "text": [
      "http://sumodb.sumogames.de/Banzuke_text.aspx?b=202101\n",
      "<class 'pandas.core.frame.DataFrame'>\n",
      "RangeIndex: 70 entries, 0 to 69\n",
      "Data columns (total 9 columns):\n",
      " #   Column     Non-Null Count  Dtype \n",
      "---  ------     --------------  ----- \n",
      " 0   rank       70 non-null     object\n",
      " 1   name       70 non-null     object\n",
      " 2   pob        70 non-null     object\n",
      " 3   stable     70 non-null     object\n",
      " 4   birthdate  70 non-null     object\n",
      " 5   height     70 non-null     object\n",
      " 6   weight     70 non-null     object\n",
      " 7   year       70 non-null     int64 \n",
      " 8   month      70 non-null     object\n",
      "dtypes: int64(1), object(8)\n",
      "memory usage: 5.0+ KB\n"
     ]
    }
   ],
   "source": [
    "df_2021 = sb.scrape_year(2021)\n",
    "df_2021.info()"
   ]
  },
  {
   "cell_type": "code",
   "execution_count": 11,
   "metadata": {},
   "outputs": [
    {
     "data": {
      "text/html": [
       "<div>\n",
       "<style scoped>\n",
       "    .dataframe tbody tr th:only-of-type {\n",
       "        vertical-align: middle;\n",
       "    }\n",
       "\n",
       "    .dataframe tbody tr th {\n",
       "        vertical-align: top;\n",
       "    }\n",
       "\n",
       "    .dataframe thead th {\n",
       "        text-align: right;\n",
       "    }\n",
       "</style>\n",
       "<table border=\"1\" class=\"dataframe\">\n",
       "  <thead>\n",
       "    <tr style=\"text-align: right;\">\n",
       "      <th></th>\n",
       "      <th>rank</th>\n",
       "      <th>name</th>\n",
       "      <th>pob</th>\n",
       "      <th>stable</th>\n",
       "      <th>birthdate</th>\n",
       "      <th>height</th>\n",
       "      <th>weight</th>\n",
       "      <th>year</th>\n",
       "      <th>month</th>\n",
       "    </tr>\n",
       "  </thead>\n",
       "  <tbody>\n",
       "    <tr>\n",
       "      <th>0</th>\n",
       "      <td>Y1e</td>\n",
       "      <td>Hakuho</td>\n",
       "      <td>Mongolia</td>\n",
       "      <td>Miyagino</td>\n",
       "      <td>11.03.1985</td>\n",
       "      <td>193</td>\n",
       "      <td>150.7</td>\n",
       "      <td>2021</td>\n",
       "      <td>01</td>\n",
       "    </tr>\n",
       "    <tr>\n",
       "      <th>1</th>\n",
       "      <td>Y1w</td>\n",
       "      <td>Kakuryu</td>\n",
       "      <td>Mongolia</td>\n",
       "      <td>Michinoku</td>\n",
       "      <td>10.08.1985</td>\n",
       "      <td>186</td>\n",
       "      <td>150</td>\n",
       "      <td>2021</td>\n",
       "      <td>01</td>\n",
       "    </tr>\n",
       "    <tr>\n",
       "      <th>2</th>\n",
       "      <td>O1e</td>\n",
       "      <td>Takakeisho</td>\n",
       "      <td>Hyogo</td>\n",
       "      <td>Tokiwayama</td>\n",
       "      <td>05.08.1996</td>\n",
       "      <td>173</td>\n",
       "      <td>149</td>\n",
       "      <td>2021</td>\n",
       "      <td>01</td>\n",
       "    </tr>\n",
       "    <tr>\n",
       "      <th>3</th>\n",
       "      <td>O1w</td>\n",
       "      <td>Shodai</td>\n",
       "      <td>Kumamoto</td>\n",
       "      <td>Tokitsukaze</td>\n",
       "      <td>05.11.1991</td>\n",
       "      <td>182</td>\n",
       "      <td>150</td>\n",
       "      <td>2021</td>\n",
       "      <td>01</td>\n",
       "    </tr>\n",
       "    <tr>\n",
       "      <th>4</th>\n",
       "      <td>O2e</td>\n",
       "      <td>Asanoyama</td>\n",
       "      <td>Toyama</td>\n",
       "      <td>Takasago</td>\n",
       "      <td>01.03.1994</td>\n",
       "      <td>189</td>\n",
       "      <td>158</td>\n",
       "      <td>2021</td>\n",
       "      <td>01</td>\n",
       "    </tr>\n",
       "  </tbody>\n",
       "</table>\n",
       "</div>"
      ],
      "text/plain": [
       "  rank        name       pob       stable   birthdate height weight  year  \\\n",
       "0  Y1e      Hakuho  Mongolia     Miyagino  11.03.1985    193  150.7  2021   \n",
       "1  Y1w     Kakuryu  Mongolia    Michinoku  10.08.1985    186    150  2021   \n",
       "2  O1e  Takakeisho     Hyogo   Tokiwayama  05.08.1996    173    149  2021   \n",
       "3  O1w      Shodai  Kumamoto  Tokitsukaze  05.11.1991    182    150  2021   \n",
       "4  O2e   Asanoyama    Toyama     Takasago  01.03.1994    189    158  2021   \n",
       "\n",
       "  month  \n",
       "0    01  \n",
       "1    01  \n",
       "2    01  \n",
       "3    01  \n",
       "4    01  "
      ]
     },
     "execution_count": 11,
     "metadata": {},
     "output_type": "execute_result"
    }
   ],
   "source": [
    "to_save = pd.concat([df_2021, df_2020])\n",
    "to_save.to_csv('banzuke_raw.csv')\n",
    "to_save.head()"
   ]
  },
  {
   "cell_type": "code",
   "execution_count": null,
   "metadata": {},
   "outputs": [],
   "source": []
  }
 ],
 "metadata": {
  "kernelspec": {
   "display_name": "Python 3",
   "language": "python",
   "name": "python3"
  },
  "language_info": {
   "codemirror_mode": {
    "name": "ipython",
    "version": 3
   },
   "file_extension": ".py",
   "mimetype": "text/x-python",
   "name": "python",
   "nbconvert_exporter": "python",
   "pygments_lexer": "ipython3",
   "version": "3.8.5"
  }
 },
 "nbformat": 4,
 "nbformat_minor": 4
}
